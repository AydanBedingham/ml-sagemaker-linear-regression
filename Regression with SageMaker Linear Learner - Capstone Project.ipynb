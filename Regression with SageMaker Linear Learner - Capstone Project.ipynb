{
 "cells": [
  {
   "cell_type": "markdown",
   "id": "c1d9838f-86aa-44cf-95fe-a8dc9f11da40",
   "metadata": {
    "tags": []
   },
   "source": [
    "# Regression with SageMaker Linear Learner - Captsone Project"
   ]
  },
  {
   "cell_type": "markdown",
   "id": "6247f9f0-e34a-4b48-8f3c-b88b7e4aba2e",
   "metadata": {
    "tags": []
   },
   "source": [
    "# Overview\n",
    "#### Trains, deploys and tests an AWS SageMaker LinearLearner model capable of predicting the impact of that increasing Automobile Horse Power has on Fuel Economy.\n",
    "#### 1. Load DataSet into memory\n",
    "#### 2. Seperate DataSet into Training/Test data\n",
    "#### 3. Upload Training/Test data to S3\n",
    "#### 4. Train a LinearLearner regression model\n",
    "#### 5. Deploy and test the trained model\n",
    "#### 6. Cleanup"
   ]
  },
  {
   "cell_type": "markdown",
   "id": "0097d15a-2d98-4eb2-9117-484967f0797d",
   "metadata": {
    "tags": []
   },
   "source": [
    "# Import required libraries"
   ]
  },
  {
   "cell_type": "code",
   "execution_count": 2,
   "id": "ccf37c55-ef5c-4d6a-a392-0396c8b5e6b5",
   "metadata": {
    "tags": []
   },
   "outputs": [
    {
     "name": "stdout",
     "output_type": "stream",
     "text": [
      "Requirement already satisfied: Seaborn in /opt/conda/lib/python3.7/site-packages (0.10.0)\n",
      "Collecting Seaborn\n",
      "  Using cached seaborn-0.12.2-py3-none-any.whl (293 kB)\n",
      "Requirement already satisfied: matplotlib!=3.6.1,>=3.1 in /opt/conda/lib/python3.7/site-packages (from Seaborn) (3.1.3)\n",
      "Requirement already satisfied: typing_extensions in /opt/conda/lib/python3.7/site-packages (from Seaborn) (4.5.0)\n",
      "Requirement already satisfied: numpy!=1.24.0,>=1.17 in /opt/conda/lib/python3.7/site-packages (from Seaborn) (1.21.6)\n",
      "Requirement already satisfied: pandas>=0.25 in /opt/conda/lib/python3.7/site-packages (from Seaborn) (1.3.5)\n",
      "Requirement already satisfied: pyparsing!=2.0.4,!=2.1.2,!=2.1.6,>=2.0.1 in /opt/conda/lib/python3.7/site-packages (from matplotlib!=3.6.1,>=3.1->Seaborn) (2.4.6)\n",
      "Requirement already satisfied: python-dateutil>=2.1 in /opt/conda/lib/python3.7/site-packages (from matplotlib!=3.6.1,>=3.1->Seaborn) (2.8.2)\n",
      "Requirement already satisfied: cycler>=0.10 in /opt/conda/lib/python3.7/site-packages (from matplotlib!=3.6.1,>=3.1->Seaborn) (0.10.0)\n",
      "Requirement already satisfied: kiwisolver>=1.0.1 in /opt/conda/lib/python3.7/site-packages (from matplotlib!=3.6.1,>=3.1->Seaborn) (1.1.0)\n",
      "Requirement already satisfied: pytz>=2017.3 in /opt/conda/lib/python3.7/site-packages (from pandas>=0.25->Seaborn) (2019.3)\n",
      "Requirement already satisfied: six in /opt/conda/lib/python3.7/site-packages (from cycler>=0.10->matplotlib!=3.6.1,>=3.1->Seaborn) (1.14.0)\n",
      "Requirement already satisfied: setuptools in /opt/conda/lib/python3.7/site-packages (from kiwisolver>=1.0.1->matplotlib!=3.6.1,>=3.1->Seaborn) (65.7.0)\n",
      "Installing collected packages: Seaborn\n",
      "  Attempting uninstall: Seaborn\n",
      "    Found existing installation: seaborn 0.10.0\n",
      "    Uninstalling seaborn-0.10.0:\n",
      "      Successfully uninstalled seaborn-0.10.0\n",
      "Successfully installed Seaborn-0.12.2\n",
      "\u001b[33mWARNING: Running pip as the 'root' user can result in broken permissions and conflicting behaviour with the system package manager. It is recommended to use a virtual environment instead: https://pip.pypa.io/warnings/venv\u001b[0m\u001b[33m\n",
      "\u001b[0m"
     ]
    }
   ],
   "source": [
    "# install seaborn library\n",
    "!pip install --upgrade Seaborn\n",
    "\n",
    "import pandas as pd\n",
    "import numpy as np\n",
    "import seaborn as sns\n",
    "import matplotlib.pyplot as plt\n",
    "import os\n",
    "import io\n",
    "import sagemaker\n",
    "import sagemaker.amazon.common as smac # sagemaker common libary\n",
    "import boto3\n",
    "from sagemaker.deserializers import JSONDeserializer\n",
    "from sagemaker.serializers import CSVSerializer\n",
    "from sklearn.model_selection import train_test_split\n",
    "from sklearn.metrics import r2_score"
   ]
  },
  {
   "cell_type": "markdown",
   "id": "4d5c0e1e-aa73-4138-b905-025b235e5591",
   "metadata": {
    "tags": []
   },
   "source": [
    "# 1. Load DataSet into memory"
   ]
  },
  {
   "cell_type": "code",
   "execution_count": 3,
   "id": "4c53f22c-5afc-4f1b-9b26-be9f7b76bd3a",
   "metadata": {
    "tags": []
   },
   "outputs": [
    {
     "data": {
      "text/html": [
       "<div>\n",
       "<style scoped>\n",
       "    .dataframe tbody tr th:only-of-type {\n",
       "        vertical-align: middle;\n",
       "    }\n",
       "\n",
       "    .dataframe tbody tr th {\n",
       "        vertical-align: top;\n",
       "    }\n",
       "\n",
       "    .dataframe thead th {\n",
       "        text-align: right;\n",
       "    }\n",
       "</style>\n",
       "<table border=\"1\" class=\"dataframe\">\n",
       "  <thead>\n",
       "    <tr style=\"text-align: right;\">\n",
       "      <th></th>\n",
       "      <th>Horse Power</th>\n",
       "      <th>Fuel Economy (MPG)</th>\n",
       "    </tr>\n",
       "  </thead>\n",
       "  <tbody>\n",
       "    <tr>\n",
       "      <th>0</th>\n",
       "      <td>118.770799</td>\n",
       "      <td>29.344195</td>\n",
       "    </tr>\n",
       "    <tr>\n",
       "      <th>1</th>\n",
       "      <td>176.326567</td>\n",
       "      <td>24.695934</td>\n",
       "    </tr>\n",
       "    <tr>\n",
       "      <th>2</th>\n",
       "      <td>219.262465</td>\n",
       "      <td>23.952010</td>\n",
       "    </tr>\n",
       "    <tr>\n",
       "      <th>3</th>\n",
       "      <td>187.310009</td>\n",
       "      <td>23.384546</td>\n",
       "    </tr>\n",
       "    <tr>\n",
       "      <th>4</th>\n",
       "      <td>218.594340</td>\n",
       "      <td>23.426739</td>\n",
       "    </tr>\n",
       "    <tr>\n",
       "      <th>...</th>\n",
       "      <td>...</td>\n",
       "      <td>...</td>\n",
       "    </tr>\n",
       "    <tr>\n",
       "      <th>95</th>\n",
       "      <td>162.810542</td>\n",
       "      <td>27.418661</td>\n",
       "    </tr>\n",
       "    <tr>\n",
       "      <th>96</th>\n",
       "      <td>266.869640</td>\n",
       "      <td>15.989945</td>\n",
       "    </tr>\n",
       "    <tr>\n",
       "      <th>97</th>\n",
       "      <td>243.831211</td>\n",
       "      <td>19.253375</td>\n",
       "    </tr>\n",
       "    <tr>\n",
       "      <th>98</th>\n",
       "      <td>140.959803</td>\n",
       "      <td>29.515593</td>\n",
       "    </tr>\n",
       "    <tr>\n",
       "      <th>99</th>\n",
       "      <td>184.123053</td>\n",
       "      <td>25.196097</td>\n",
       "    </tr>\n",
       "  </tbody>\n",
       "</table>\n",
       "<p>100 rows × 2 columns</p>\n",
       "</div>"
      ],
      "text/plain": [
       "    Horse Power  Fuel Economy (MPG)\n",
       "0    118.770799           29.344195\n",
       "1    176.326567           24.695934\n",
       "2    219.262465           23.952010\n",
       "3    187.310009           23.384546\n",
       "4    218.594340           23.426739\n",
       "..          ...                 ...\n",
       "95   162.810542           27.418661\n",
       "96   266.869640           15.989945\n",
       "97   243.831211           19.253375\n",
       "98   140.959803           29.515593\n",
       "99   184.123053           25.196097\n",
       "\n",
       "[100 rows x 2 columns]"
      ]
     },
     "execution_count": 3,
     "metadata": {},
     "output_type": "execute_result"
    }
   ],
   "source": [
    "# Read the data using Pandas \n",
    "fuel_economy_df = pd.read_csv('data/FuelEconomy.csv')\n",
    "fuel_economy_df"
   ]
  },
  {
   "cell_type": "code",
   "execution_count": 4,
   "id": "cff57419-2178-49ca-8f37-d5836308e010",
   "metadata": {
    "tags": []
   },
   "outputs": [
    {
     "name": "stdout",
     "output_type": "stream",
     "text": [
      "X Shape: (100, 1)\n",
      "y Shape: (100, 1)\n"
     ]
    }
   ],
   "source": [
    "# Separate the data into input X (Independent variable) and Output y (Dependent Variable)\n",
    "X = fuel_economy_df[['Horse Power']]\n",
    "y = fuel_economy_df[['Fuel Economy (MPG)']]\n",
    "\n",
    "print(\"X Shape:\", X.shape)\n",
    "print(\"y Shape:\", y.shape)"
   ]
  },
  {
   "cell_type": "code",
   "execution_count": 5,
   "id": "00007609-caf4-4040-88cd-bdf9739263db",
   "metadata": {
    "tags": []
   },
   "outputs": [],
   "source": [
    "# Convert the datatype to float32\n",
    "X = np.array(X).astype('float32')\n",
    "y = np.array(y).astype('float32')"
   ]
  },
  {
   "cell_type": "markdown",
   "id": "fb3d4d6e-1d10-4f27-bbfd-96373ff64e2a",
   "metadata": {
    "tags": []
   },
   "source": [
    "# 2. Seperate DataSet into Training/Test data"
   ]
  },
  {
   "cell_type": "code",
   "execution_count": 6,
   "id": "42e70e81-7280-4343-aadb-db594ef30438",
   "metadata": {
    "tags": []
   },
   "outputs": [],
   "source": [
    "# Split the data into training and testing using SkLearn Library\n",
    "test_size = 0.2; # 80% of the data will be used for training\n",
    "X_train, X_test, y_train, y_test = train_test_split(X, y, test_size = test_size)"
   ]
  },
  {
   "cell_type": "code",
   "execution_count": 7,
   "id": "399ff7cb-6f64-484f-bc55-4e1731fdfcac",
   "metadata": {
    "tags": []
   },
   "outputs": [
    {
     "name": "stdout",
     "output_type": "stream",
     "text": [
      "X_train Actual length(%): 80 Expected length(%): 80.0\n",
      "y_train Actual length(%): 80 Expected length(%): 80.0\n",
      "X_test Actual length(%): 20 Expected length(%): 20.0\n",
      "y_test Actual length(%): 20 Expected length(%): 20.0\n"
     ]
    }
   ],
   "source": [
    "# Verify that the split was successful\n",
    "print(\"X_train\", \"Actual length(%):\", len(X_train), \"Expected length(%):\", (len(X)*(1-test_size)))\n",
    "print(\"y_train\", \"Actual length(%):\", len(y_train), \"Expected length(%):\", (len(y)*(1-test_size)))\n",
    "\n",
    "print(\"X_test\", \"Actual length(%):\", len(X_test), \"Expected length(%):\", (len(X)*test_size))\n",
    "print(\"y_test\", \"Actual length(%):\", len(y_test), \"Expected length(%):\", (len(X)*test_size))"
   ]
  },
  {
   "cell_type": "markdown",
   "id": "4041548e-6efd-48dd-a535-ba8b91efdfd8",
   "metadata": {
    "tags": []
   },
   "source": [
    "# 3. Upload Training/Test data to S3"
   ]
  },
  {
   "cell_type": "code",
   "execution_count": 8,
   "id": "3f42a4c0-02a6-4c44-8615-7644c05cc215",
   "metadata": {
    "tags": []
   },
   "outputs": [
    {
     "name": "stdout",
     "output_type": "stream",
     "text": [
      "arn:aws:iam::628298263648:role/AmazonSageMaker-ExecutionRole-SageMaker-S3-FullAccess\n"
     ]
    }
   ],
   "source": [
    "# Create Sagemaker session\n",
    "sagemaker_session = sagemaker.Session()\n",
    "\n",
    "# Define S3 bucket and prefix\n",
    "bucket_name = 'aws.ml.engineer2'\n",
    "bucket_key_base = 'fuel_economy_linear_learner'\n",
    "\n",
    "# Get notebook execution role\n",
    "role = sagemaker.get_execution_role()\n",
    "print(role)"
   ]
  },
  {
   "cell_type": "markdown",
   "id": "d33e38d4-fb9e-4559-a6de-9372d563d63b",
   "metadata": {
    "tags": []
   },
   "source": [
    "## 3.1 Upload Training data to S3"
   ]
  },
  {
   "cell_type": "code",
   "execution_count": 9,
   "id": "98a2f654-9374-4667-91ca-ffaae36abc7f",
   "metadata": {
    "tags": []
   },
   "outputs": [
    {
     "data": {
      "text/plain": [
       "0"
      ]
     },
     "execution_count": 9,
     "metadata": {},
     "output_type": "execute_result"
    }
   ],
   "source": [
    "# Ensure the target label is a vector\n",
    "y_train = y_train[:,0]\n",
    "\n",
    "# Convert the training data numpy arrays to RecordIO format (required by Sagemaker Linear Learner)\n",
    "buf = io.BytesIO() # Create an in-memory byte array\n",
    "smac.write_numpy_to_dense_tensor(buf, X_train, y_train) # Write data to buffer\n",
    "buf.seek(0) # Reset buffer index"
   ]
  },
  {
   "cell_type": "code",
   "execution_count": 10,
   "id": "6b2a20df-b4a8-4015-a4b4-8c05cb898f61",
   "metadata": {
    "tags": []
   },
   "outputs": [
    {
     "name": "stdout",
     "output_type": "stream",
     "text": [
      "Uploaded training data location: s3://aws.ml.engineer2/fuel_economy_linear_learner/train/linear-train-data\n"
     ]
    }
   ],
   "source": [
    "# Upload the training data record-io data to S3 bucket\n",
    "bucket_key_train = os.path.join(bucket_key_base, 'train', \"linear-train-data\")\n",
    "boto3.resource('s3').Bucket(bucket_name).Object(bucket_key_train).upload_fileobj(buf)\n",
    "\n",
    "s3_train_data = 's3://{}/{}'.format(bucket_name, bucket_key_train)\n",
    "print('Uploaded training data location: {}'.format(s3_train_data))"
   ]
  },
  {
   "cell_type": "markdown",
   "id": "eb95d575-20c2-4dc3-8590-aa3193381059",
   "metadata": {
    "tags": []
   },
   "source": [
    "## 3.2 Upload Test data to S3"
   ]
  },
  {
   "cell_type": "code",
   "execution_count": 11,
   "id": "991144fc-30ff-4996-b6e6-6f2005d2f2d4",
   "metadata": {
    "tags": []
   },
   "outputs": [
    {
     "data": {
      "text/plain": [
       "0"
      ]
     },
     "execution_count": 11,
     "metadata": {},
     "output_type": "execute_result"
    }
   ],
   "source": [
    "# Ensure the target label is a vector\n",
    "y_test = y_test[:,0]\n",
    "\n",
    "# Convert the training data numpy arrays to RecordIO format (required by Sagemaker Linear Learner)\n",
    "buf = io.BytesIO() # Create an in-memory byte array\n",
    "smac.write_numpy_to_dense_tensor(buf, X_test, y_test) # Write data to buffer\n",
    "buf.seek(0) # Reset buffer index"
   ]
  },
  {
   "cell_type": "code",
   "execution_count": 12,
   "id": "dd9f4ccf-03f7-41c5-b014-33401e504d3d",
   "metadata": {
    "tags": []
   },
   "outputs": [
    {
     "name": "stdout",
     "output_type": "stream",
     "text": [
      "Uploaded test data location: s3://aws.ml.engineer2/fuel_economy_linear_learner/test/linear-test-data\n"
     ]
    }
   ],
   "source": [
    "# Upload the training data record-io data to S3 bucket\n",
    "bucket_key_test = os.path.join(bucket_key_base, 'test', \"linear-test-data\")\n",
    "boto3.resource('s3').Bucket(bucket_name).Object(bucket_key_test).upload_fileobj(buf)\n",
    "\n",
    "s3_test_data = 's3://{}/{}'.format(bucket_name, bucket_key_test)\n",
    "print('Uploaded test data location: {}'.format(s3_test_data))"
   ]
  },
  {
   "cell_type": "markdown",
   "id": "54f49693-1fb0-480a-bd8f-1ba785adecd4",
   "metadata": {
    "tags": []
   },
   "source": [
    "# 4. Train a LinearLearner regression model"
   ]
  },
  {
   "cell_type": "code",
   "execution_count": 14,
   "id": "85678fc1-b7ac-4753-9ee9-974dac04e91b",
   "metadata": {
    "tags": []
   },
   "outputs": [
    {
     "name": "stdout",
     "output_type": "stream",
     "text": [
      "Training artifacts will be uploaded to: s3://aws.ml.engineer2/fuel_economy_linear_learner/output\n"
     ]
    }
   ],
   "source": [
    "# S3 location to store store the linear learner output\n",
    "output_location = 's3://{}/{}/output'.format(bucket_name, bucket_key_base)\n",
    "print('Training artifacts will be uploaded to: {}'.format(output_location))"
   ]
  },
  {
   "cell_type": "code",
   "execution_count": 15,
   "id": "88a5b7b0-d852-452f-8056-9ddfd1266fdd",
   "metadata": {
    "tags": []
   },
   "outputs": [
    {
     "data": {
      "text/plain": [
       "'382416733822.dkr.ecr.us-east-1.amazonaws.com/linear-learner:1'"
      ]
     },
     "execution_count": 15,
     "metadata": {},
     "output_type": "execute_result"
    }
   ],
   "source": [
    "# Obtain reference LinearLearner container image (training container of sagemaker built-in algorithm)\n",
    "container = sagemaker.image_uris.retrieve(\"linear-learner\", boto3.Session().region_name)\n",
    "container"
   ]
  },
  {
   "cell_type": "code",
   "execution_count": 16,
   "id": "c26b89ed-8c4d-404e-aff4-2b2ecc903719",
   "metadata": {
    "tags": []
   },
   "outputs": [
    {
     "name": "stderr",
     "output_type": "stream",
     "text": [
      "INFO:sagemaker:Creating training-job with name: linear-learner-2023-03-18-18-00-06-891\n"
     ]
    },
    {
     "name": "stdout",
     "output_type": "stream",
     "text": [
      "2023-03-18 18:00:10 Starting - Starting the training job......\n",
      "2023-03-18 18:00:56 Starting - Preparing the instances for training.........\n",
      "2023-03-18 18:02:45 Downloading - Downloading input data\n",
      "2023-03-18 18:02:45 Training - Downloading the training image.........\n",
      "2023-03-18 18:04:01 Training - Training image download completed. Training in progress..\u001b[34mDocker entrypoint called with argument(s): train\u001b[0m\n",
      "\u001b[34mRunning default environment configuration script\u001b[0m\n",
      "\u001b[34m[03/18/2023 18:04:17 INFO 140106430957376] Reading default configuration from /opt/amazon/lib/python3.7/site-packages/algorithm/resources/default-input.json: {'mini_batch_size': '1000', 'epochs': '15', 'feature_dim': 'auto', 'use_bias': 'true', 'binary_classifier_model_selection_criteria': 'accuracy', 'f_beta': '1.0', 'target_recall': '0.8', 'target_precision': '0.8', 'num_models': 'auto', 'num_calibration_samples': '10000000', 'init_method': 'uniform', 'init_scale': '0.07', 'init_sigma': '0.01', 'init_bias': '0.0', 'optimizer': 'auto', 'loss': 'auto', 'margin': '1.0', 'quantile': '0.5', 'loss_insensitivity': '0.01', 'huber_delta': '1.0', 'num_classes': '1', 'accuracy_top_k': '3', 'wd': 'auto', 'l1': 'auto', 'momentum': 'auto', 'learning_rate': 'auto', 'beta_1': 'auto', 'beta_2': 'auto', 'bias_lr_mult': 'auto', 'bias_wd_mult': 'auto', 'use_lr_scheduler': 'true', 'lr_scheduler_step': 'auto', 'lr_scheduler_factor': 'auto', 'lr_scheduler_minimum_lr': 'auto', 'positive_example_weight_mult': '1.0', 'balance_multiclass_weights': 'false', 'normalize_data': 'true', 'normalize_label': 'auto', 'unbias_data': 'auto', 'unbias_label': 'auto', 'num_point_for_scaler': '10000', '_kvstore': 'auto', '_num_gpus': 'auto', '_num_kv_servers': 'auto', '_log_level': 'info', '_tuning_objective_metric': '', 'early_stopping_patience': '3', 'early_stopping_tolerance': '0.001', '_enable_profiler': 'false'}\u001b[0m\n",
      "\u001b[34m[03/18/2023 18:04:17 INFO 140106430957376] Merging with provided configuration from /opt/ml/input/config/hyperparameters.json: {'epochs': '5', 'feature_dim': '1', 'loss': 'absolute_loss', 'mini_batch_size': '5', 'num_models': '32', 'predictor_type': 'regressor'}\u001b[0m\n",
      "\u001b[34m[03/18/2023 18:04:17 INFO 140106430957376] Final configuration: {'mini_batch_size': '5', 'epochs': '5', 'feature_dim': '1', 'use_bias': 'true', 'binary_classifier_model_selection_criteria': 'accuracy', 'f_beta': '1.0', 'target_recall': '0.8', 'target_precision': '0.8', 'num_models': '32', 'num_calibration_samples': '10000000', 'init_method': 'uniform', 'init_scale': '0.07', 'init_sigma': '0.01', 'init_bias': '0.0', 'optimizer': 'auto', 'loss': 'absolute_loss', 'margin': '1.0', 'quantile': '0.5', 'loss_insensitivity': '0.01', 'huber_delta': '1.0', 'num_classes': '1', 'accuracy_top_k': '3', 'wd': 'auto', 'l1': 'auto', 'momentum': 'auto', 'learning_rate': 'auto', 'beta_1': 'auto', 'beta_2': 'auto', 'bias_lr_mult': 'auto', 'bias_wd_mult': 'auto', 'use_lr_scheduler': 'true', 'lr_scheduler_step': 'auto', 'lr_scheduler_factor': 'auto', 'lr_scheduler_minimum_lr': 'auto', 'positive_example_weight_mult': '1.0', 'balance_multiclass_weights': 'false', 'normalize_data': 'true', 'normalize_label': 'auto', 'unbias_data': 'auto', 'unbias_label': 'auto', 'num_point_for_scaler': '10000', '_kvstore': 'auto', '_num_gpus': 'auto', '_num_kv_servers': 'auto', '_log_level': 'info', '_tuning_objective_metric': '', 'early_stopping_patience': '3', 'early_stopping_tolerance': '0.001', '_enable_profiler': 'false', 'predictor_type': 'regressor'}\u001b[0m\n",
      "\u001b[34m[03/18/2023 18:04:21 WARNING 140106430957376] Loggers have already been setup.\u001b[0m\n",
      "\u001b[34m[03/18/2023 18:04:21 INFO 140106430957376] Final configuration: {'mini_batch_size': '5', 'epochs': '5', 'feature_dim': '1', 'use_bias': 'true', 'binary_classifier_model_selection_criteria': 'accuracy', 'f_beta': '1.0', 'target_recall': '0.8', 'target_precision': '0.8', 'num_models': '32', 'num_calibration_samples': '10000000', 'init_method': 'uniform', 'init_scale': '0.07', 'init_sigma': '0.01', 'init_bias': '0.0', 'optimizer': 'auto', 'loss': 'absolute_loss', 'margin': '1.0', 'quantile': '0.5', 'loss_insensitivity': '0.01', 'huber_delta': '1.0', 'num_classes': '1', 'accuracy_top_k': '3', 'wd': 'auto', 'l1': 'auto', 'momentum': 'auto', 'learning_rate': 'auto', 'beta_1': 'auto', 'beta_2': 'auto', 'bias_lr_mult': 'auto', 'bias_wd_mult': 'auto', 'use_lr_scheduler': 'true', 'lr_scheduler_step': 'auto', 'lr_scheduler_factor': 'auto', 'lr_scheduler_minimum_lr': 'auto', 'positive_example_weight_mult': '1.0', 'balance_multiclass_weights': 'false', 'normalize_data': 'true', 'normalize_label': 'auto', 'unbias_data': 'auto', 'unbias_label': 'auto', 'num_point_for_scaler': '10000', '_kvstore': 'auto', '_num_gpus': 'auto', '_num_kv_servers': 'auto', '_log_level': 'info', '_tuning_objective_metric': '', 'early_stopping_patience': '3', 'early_stopping_tolerance': '0.001', '_enable_profiler': 'false', 'predictor_type': 'regressor'}\u001b[0m\n",
      "\u001b[34m[03/18/2023 18:04:21 WARNING 140106430957376] Loggers have already been setup.\u001b[0m\n",
      "\u001b[34mProcess 7 is a worker.\u001b[0m\n",
      "\u001b[34m[03/18/2023 18:04:21 INFO 140106430957376] Using default worker.\u001b[0m\n",
      "\u001b[34m[03/18/2023 18:04:21 INFO 140106430957376] Checkpoint loading and saving are disabled.\u001b[0m\n",
      "\u001b[34m[2023-03-18 18:04:21.184] [tensorio] [info] epoch_stats={\"data_pipeline\": \"/opt/ml/input/data/train\", \"epoch\": 0, \"duration\": 18, \"num_examples\": 1, \"num_bytes\": 240}\u001b[0m\n",
      "\u001b[34m[03/18/2023 18:04:21 INFO 140106430957376] Create Store: local\u001b[0m\n",
      "\u001b[34m[2023-03-18 18:04:21.320] [tensorio] [info] epoch_stats={\"data_pipeline\": \"/opt/ml/input/data/train\", \"epoch\": 1, \"duration\": 134, \"num_examples\": 16, \"num_bytes\": 3840}\u001b[0m\n",
      "\u001b[34m[03/18/2023 18:04:21 INFO 140106430957376] Scaler algorithm parameters\n",
      " <algorithm.scaler.ScalerAlgorithmStable object at 0x7f6c81173110>\u001b[0m\n",
      "\u001b[34m[03/18/2023 18:04:21 INFO 140106430957376] Scaling model computed with parameters:\n",
      " {'stdev_label': \u001b[0m\n",
      "\u001b[34m[4.455905]\u001b[0m\n",
      "\u001b[34m<NDArray 1 @cpu(0)>, 'stdev_weight': \u001b[0m\n",
      "\u001b[34m[59.414474]\u001b[0m\n",
      "\u001b[34m<NDArray 1 @cpu(0)>, 'mean_label': \u001b[0m\n",
      "\u001b[34m[23.17]\u001b[0m\n",
      "\u001b[34m<NDArray 1 @cpu(0)>, 'mean_weight': \u001b[0m\n",
      "\u001b[34m[214.9012]\u001b[0m\n",
      "\u001b[34m<NDArray 1 @cpu(0)>}\u001b[0m\n",
      "\u001b[34m[03/18/2023 18:04:21 INFO 140106430957376] nvidia-smi: took 0.032 seconds to run.\u001b[0m\n",
      "\u001b[34m[03/18/2023 18:04:21 INFO 140106430957376] nvidia-smi identified 0 GPUs.\u001b[0m\n",
      "\u001b[34m[03/18/2023 18:04:21 INFO 140106430957376] Number of GPUs being used: 0\u001b[0m\n",
      "\u001b[34m#metrics {\"StartTime\": 1679162661.4380634, \"EndTime\": 1679162661.438104, \"Dimensions\": {\"Algorithm\": \"Linear Learner\", \"Host\": \"algo-1\", \"Operation\": \"training\", \"Meta\": \"init_train_data_iter\"}, \"Metrics\": {\"Total Records Seen\": {\"sum\": 85.0, \"count\": 1, \"min\": 85, \"max\": 85}, \"Total Batches Seen\": {\"sum\": 17.0, \"count\": 1, \"min\": 17, \"max\": 17}, \"Max Records Seen Between Resets\": {\"sum\": 80.0, \"count\": 1, \"min\": 80, \"max\": 80}, \"Max Batches Seen Between Resets\": {\"sum\": 16.0, \"count\": 1, \"min\": 16, \"max\": 16}, \"Reset Count\": {\"sum\": 2.0, \"count\": 1, \"min\": 2, \"max\": 2}, \"Number of Records Since Last Reset\": {\"sum\": 0.0, \"count\": 1, \"min\": 0, \"max\": 0}, \"Number of Batches Since Last Reset\": {\"sum\": 0.0, \"count\": 1, \"min\": 0, \"max\": 0}}}\u001b[0m\n",
      "\u001b[34m[2023-03-18 18:04:21.779] [tensorio] [info] epoch_stats={\"data_pipeline\": \"/opt/ml/input/data/train\", \"epoch\": 4, \"duration\": 340, \"num_examples\": 16, \"num_bytes\": 3840}\u001b[0m\n",
      "\u001b[34m#metrics {\"StartTime\": 1679162661.779383, \"EndTime\": 1679162661.779471, \"Dimensions\": {\"Algorithm\": \"Linear Learner\", \"Host\": \"algo-1\", \"Operation\": \"training\", \"epoch\": 0, \"model\": 0}, \"Metrics\": {\"train_absolute_loss_objective\": {\"sum\": 0.7483759075403214, \"count\": 1, \"min\": 0.7483759075403214, \"max\": 0.7483759075403214}}}\u001b[0m\n",
      "\u001b[34m#metrics {\"StartTime\": 1679162661.7797215, \"EndTime\": 1679162661.779745, \"Dimensions\": {\"Algorithm\": \"Linear Learner\", \"Host\": \"algo-1\", \"Operation\": \"training\", \"epoch\": 0, \"model\": 1}, \"Metrics\": {\"train_absolute_loss_objective\": {\"sum\": 0.7315876320004463, \"count\": 1, \"min\": 0.7315876320004463, \"max\": 0.7315876320004463}}}\u001b[0m\n",
      "\u001b[34m#metrics {\"StartTime\": 1679162661.7798102, \"EndTime\": 1679162661.7798252, \"Dimensions\": {\"Algorithm\": \"Linear Learner\", \"Host\": \"algo-1\", \"Operation\": \"training\", \"epoch\": 0, \"model\": 2}, \"Metrics\": {\"train_absolute_loss_objective\": {\"sum\": 0.7463087841868401, \"count\": 1, \"min\": 0.7463087841868401, \"max\": 0.7463087841868401}}}\u001b[0m\n",
      "\u001b[34m#metrics {\"StartTime\": 1679162661.7798874, \"EndTime\": 1679162661.779903, \"Dimensions\": {\"Algorithm\": \"Linear Learner\", \"Host\": \"algo-1\", \"Operation\": \"training\", \"epoch\": 0, \"model\": 3}, \"Metrics\": {\"train_absolute_loss_objective\": {\"sum\": 0.7324489265680313, \"count\": 1, \"min\": 0.7324489265680313, \"max\": 0.7324489265680313}}}\u001b[0m\n",
      "\u001b[34m#metrics {\"StartTime\": 1679162661.7799625, \"EndTime\": 1679162661.779979, \"Dimensions\": {\"Algorithm\": \"Linear Learner\", \"Host\": \"algo-1\", \"Operation\": \"training\", \"epoch\": 0, \"model\": 4}, \"Metrics\": {\"train_absolute_loss_objective\": {\"sum\": 0.5538557231426239, \"count\": 1, \"min\": 0.5538557231426239, \"max\": 0.5538557231426239}}}\u001b[0m\n",
      "\u001b[34m#metrics {\"StartTime\": 1679162661.780035, \"EndTime\": 1679162661.7800515, \"Dimensions\": {\"Algorithm\": \"Linear Learner\", \"Host\": \"algo-1\", \"Operation\": \"training\", \"epoch\": 0, \"model\": 5}, \"Metrics\": {\"train_absolute_loss_objective\": {\"sum\": 0.5464475452899933, \"count\": 1, \"min\": 0.5464475452899933, \"max\": 0.5464475452899933}}}\u001b[0m\n",
      "\u001b[34m#metrics {\"StartTime\": 1679162661.7801254, \"EndTime\": 1679162661.7801423, \"Dimensions\": {\"Algorithm\": \"Linear Learner\", \"Host\": \"algo-1\", \"Operation\": \"training\", \"epoch\": 0, \"model\": 6}, \"Metrics\": {\"train_absolute_loss_objective\": {\"sum\": 0.5151260137557984, \"count\": 1, \"min\": 0.5151260137557984, \"max\": 0.5151260137557984}}}\u001b[0m\n",
      "\u001b[34m#metrics {\"StartTime\": 1679162661.7801962, \"EndTime\": 1679162661.7802138, \"Dimensions\": {\"Algorithm\": \"Linear Learner\", \"Host\": \"algo-1\", \"Operation\": \"training\", \"epoch\": 0, \"model\": 7}, \"Metrics\": {\"train_absolute_loss_objective\": {\"sum\": 0.5286050260066986, \"count\": 1, \"min\": 0.5286050260066986, \"max\": 0.5286050260066986}}}\u001b[0m\n",
      "\u001b[34m#metrics {\"StartTime\": 1679162661.7802665, \"EndTime\": 1679162661.7802835, \"Dimensions\": {\"Algorithm\": \"Linear Learner\", \"Host\": \"algo-1\", \"Operation\": \"training\", \"epoch\": 0, \"model\": 8}, \"Metrics\": {\"train_absolute_loss_objective\": {\"sum\": 0.704077398777008, \"count\": 1, \"min\": 0.704077398777008, \"max\": 0.704077398777008}}}\u001b[0m\n",
      "\u001b[34m#metrics {\"StartTime\": 1679162661.7803392, \"EndTime\": 1679162661.7803535, \"Dimensions\": {\"Algorithm\": \"Linear Learner\", \"Host\": \"algo-1\", \"Operation\": \"training\", \"epoch\": 0, \"model\": 9}, \"Metrics\": {\"train_absolute_loss_objective\": {\"sum\": 0.7586713641881943, \"count\": 1, \"min\": 0.7586713641881943, \"max\": 0.7586713641881943}}}\u001b[0m\n",
      "\u001b[34m#metrics {\"StartTime\": 1679162661.780427, \"EndTime\": 1679162661.7804418, \"Dimensions\": {\"Algorithm\": \"Linear Learner\", \"Host\": \"algo-1\", \"Operation\": \"training\", \"epoch\": 0, \"model\": 10}, \"Metrics\": {\"train_absolute_loss_objective\": {\"sum\": 0.7529458343982697, \"count\": 1, \"min\": 0.7529458343982697, \"max\": 0.7529458343982697}}}\u001b[0m\n",
      "\u001b[34m#metrics {\"StartTime\": 1679162661.7805023, \"EndTime\": 1679162661.7805161, \"Dimensions\": {\"Algorithm\": \"Linear Learner\", \"Host\": \"algo-1\", \"Operation\": \"training\", \"epoch\": 0, \"model\": 11}, \"Metrics\": {\"train_absolute_loss_objective\": {\"sum\": 0.7668190225958824, \"count\": 1, \"min\": 0.7668190225958824, \"max\": 0.7668190225958824}}}\u001b[0m\n",
      "\u001b[34m#metrics {\"StartTime\": 1679162661.7805743, \"EndTime\": 1679162661.7805886, \"Dimensions\": {\"Algorithm\": \"Linear Learner\", \"Host\": \"algo-1\", \"Operation\": \"training\", \"epoch\": 0, \"model\": 12}, \"Metrics\": {\"train_absolute_loss_objective\": {\"sum\": 0.5469885677099228, \"count\": 1, \"min\": 0.5469885677099228, \"max\": 0.5469885677099228}}}\u001b[0m\n",
      "\u001b[34m#metrics {\"StartTime\": 1679162661.7806408, \"EndTime\": 1679162661.7806594, \"Dimensions\": {\"Algorithm\": \"Linear Learner\", \"Host\": \"algo-1\", \"Operation\": \"training\", \"epoch\": 0, \"model\": 13}, \"Metrics\": {\"train_absolute_loss_objective\": {\"sum\": 0.5354551747441292, \"count\": 1, \"min\": 0.5354551747441292, \"max\": 0.5354551747441292}}}\u001b[0m\n",
      "\u001b[34m#metrics {\"StartTime\": 1679162661.7807126, \"EndTime\": 1679162661.7807276, \"Dimensions\": {\"Algorithm\": \"Linear Learner\", \"Host\": \"algo-1\", \"Operation\": \"training\", \"epoch\": 0, \"model\": 14}, \"Metrics\": {\"train_absolute_loss_objective\": {\"sum\": 0.547834201157093, \"count\": 1, \"min\": 0.547834201157093, \"max\": 0.547834201157093}}}\u001b[0m\n",
      "\u001b[34m#metrics {\"StartTime\": 1679162661.780797, \"EndTime\": 1679162661.780815, \"Dimensions\": {\"Algorithm\": \"Linear Learner\", \"Host\": \"algo-1\", \"Operation\": \"training\", \"epoch\": 0, \"model\": 15}, \"Metrics\": {\"train_absolute_loss_objective\": {\"sum\": 0.5291759014129639, \"count\": 1, \"min\": 0.5291759014129639, \"max\": 0.5291759014129639}}}\u001b[0m\n",
      "\u001b[34m#metrics {\"StartTime\": 1679162661.780878, \"EndTime\": 1679162661.780895, \"Dimensions\": {\"Algorithm\": \"Linear Learner\", \"Host\": \"algo-1\", \"Operation\": \"training\", \"epoch\": 0, \"model\": 16}, \"Metrics\": {\"train_absolute_loss_objective\": {\"sum\": 0.7806026801466942, \"count\": 1, \"min\": 0.7806026801466942, \"max\": 0.7806026801466942}}}\u001b[0m\n",
      "\u001b[34m#metrics {\"StartTime\": 1679162661.7809606, \"EndTime\": 1679162661.7809813, \"Dimensions\": {\"Algorithm\": \"Linear Learner\", \"Host\": \"algo-1\", \"Operation\": \"training\", \"epoch\": 0, \"model\": 17}, \"Metrics\": {\"train_absolute_loss_objective\": {\"sum\": 0.735694195330143, \"count\": 1, \"min\": 0.735694195330143, \"max\": 0.735694195330143}}}\u001b[0m\n",
      "\u001b[34m#metrics {\"StartTime\": 1679162661.7810466, \"EndTime\": 1679162661.7810643, \"Dimensions\": {\"Algorithm\": \"Linear Learner\", \"Host\": \"algo-1\", \"Operation\": \"training\", \"epoch\": 0, \"model\": 18}, \"Metrics\": {\"train_absolute_loss_objective\": {\"sum\": 0.7561752334237098, \"count\": 1, \"min\": 0.7561752334237098, \"max\": 0.7561752334237098}}}\u001b[0m\n",
      "\u001b[34m#metrics {\"StartTime\": 1679162661.7811315, \"EndTime\": 1679162661.7811513, \"Dimensions\": {\"Algorithm\": \"Linear Learner\", \"Host\": \"algo-1\", \"Operation\": \"training\", \"epoch\": 0, \"model\": 19}, \"Metrics\": {\"train_absolute_loss_objective\": {\"sum\": 0.7584723681211472, \"count\": 1, \"min\": 0.7584723681211472, \"max\": 0.7584723681211472}}}\u001b[0m\n",
      "\u001b[34m#metrics {\"StartTime\": 1679162661.7812078, \"EndTime\": 1679162661.7812243, \"Dimensions\": {\"Algorithm\": \"Linear Learner\", \"Host\": \"algo-1\", \"Operation\": \"training\", \"epoch\": 0, \"model\": 20}, \"Metrics\": {\"train_absolute_loss_objective\": {\"sum\": 0.572363531589508, \"count\": 1, \"min\": 0.572363531589508, \"max\": 0.572363531589508}}}\u001b[0m\n",
      "\u001b[34m#metrics {\"StartTime\": 1679162661.7812948, \"EndTime\": 1679162661.7813134, \"Dimensions\": {\"Algorithm\": \"Linear Learner\", \"Host\": \"algo-1\", \"Operation\": \"training\", \"epoch\": 0, \"model\": 21}, \"Metrics\": {\"train_absolute_loss_objective\": {\"sum\": 0.566829776763916, \"count\": 1, \"min\": 0.566829776763916, \"max\": 0.566829776763916}}}\u001b[0m\n",
      "\u001b[34m#metrics {\"StartTime\": 1679162661.7813792, \"EndTime\": 1679162661.7813964, \"Dimensions\": {\"Algorithm\": \"Linear Learner\", \"Host\": \"algo-1\", \"Operation\": \"training\", \"epoch\": 0, \"model\": 22}, \"Metrics\": {\"train_absolute_loss_objective\": {\"sum\": 0.5759824275970459, \"count\": 1, \"min\": 0.5759824275970459, \"max\": 0.5759824275970459}}}\u001b[0m\n",
      "\u001b[34m#metrics {\"StartTime\": 1679162661.781451, \"EndTime\": 1679162661.7814624, \"Dimensions\": {\"Algorithm\": \"Linear Learner\", \"Host\": \"algo-1\", \"Operation\": \"training\", \"epoch\": 0, \"model\": 23}, \"Metrics\": {\"train_absolute_loss_objective\": {\"sum\": 0.5565411373972893, \"count\": 1, \"min\": 0.5565411373972893, \"max\": 0.5565411373972893}}}\u001b[0m\n",
      "\u001b[34m#metrics {\"StartTime\": 1679162661.7815275, \"EndTime\": 1679162661.7815464, \"Dimensions\": {\"Algorithm\": \"Linear Learner\", \"Host\": \"algo-1\", \"Operation\": \"training\", \"epoch\": 0, \"model\": 24}, \"Metrics\": {\"train_absolute_loss_objective\": {\"sum\": 0.7930179938673974, \"count\": 1, \"min\": 0.7930179938673974, \"max\": 0.7930179938673974}}}\u001b[0m\n",
      "\u001b[34m#metrics {\"StartTime\": 1679162661.781617, \"EndTime\": 1679162661.7816367, \"Dimensions\": {\"Algorithm\": \"Linear Learner\", \"Host\": \"algo-1\", \"Operation\": \"training\", \"epoch\": 0, \"model\": 25}, \"Metrics\": {\"train_absolute_loss_objective\": {\"sum\": 0.7597416713833809, \"count\": 1, \"min\": 0.7597416713833809, \"max\": 0.7597416713833809}}}\u001b[0m\n",
      "\u001b[34m#metrics {\"StartTime\": 1679162661.7817504, \"EndTime\": 1679162661.7817702, \"Dimensions\": {\"Algorithm\": \"Linear Learner\", \"Host\": \"algo-1\", \"Operation\": \"training\", \"epoch\": 0, \"model\": 26}, \"Metrics\": {\"train_absolute_loss_objective\": {\"sum\": 0.7605527639389038, \"count\": 1, \"min\": 0.7605527639389038, \"max\": 0.7605527639389038}}}\u001b[0m\n",
      "\u001b[34m#metrics {\"StartTime\": 1679162661.781877, \"EndTime\": 1679162661.7818975, \"Dimensions\": {\"Algorithm\": \"Linear Learner\", \"Host\": \"algo-1\", \"Operation\": \"training\", \"epoch\": 0, \"model\": 27}, \"Metrics\": {\"train_absolute_loss_objective\": {\"sum\": 0.7607351675629616, \"count\": 1, \"min\": 0.7607351675629616, \"max\": 0.7607351675629616}}}\u001b[0m\n",
      "\u001b[34m#metrics {\"StartTime\": 1679162661.7819664, \"EndTime\": 1679162661.7819843, \"Dimensions\": {\"Algorithm\": \"Linear Learner\", \"Host\": \"algo-1\", \"Operation\": \"training\", \"epoch\": 0, \"model\": 28}, \"Metrics\": {\"train_absolute_loss_objective\": {\"sum\": 0.8655081301927566, \"count\": 1, \"min\": 0.8655081301927566, \"max\": 0.8655081301927566}}}\u001b[0m\n",
      "\u001b[34m#metrics {\"StartTime\": 1679162661.7820559, \"EndTime\": 1679162661.7820725, \"Dimensions\": {\"Algorithm\": \"Linear Learner\", \"Host\": \"algo-1\", \"Operation\": \"training\", \"epoch\": 0, \"model\": 29}, \"Metrics\": {\"train_absolute_loss_objective\": {\"sum\": 0.8658024877309799, \"count\": 1, \"min\": 0.8658024877309799, \"max\": 0.8658024877309799}}}\u001b[0m\n",
      "\u001b[34m#metrics {\"StartTime\": 1679162661.7821438, \"EndTime\": 1679162661.7821603, \"Dimensions\": {\"Algorithm\": \"Linear Learner\", \"Host\": \"algo-1\", \"Operation\": \"training\", \"epoch\": 0, \"model\": 30}, \"Metrics\": {\"train_absolute_loss_objective\": {\"sum\": 0.8648175477981568, \"count\": 1, \"min\": 0.8648175477981568, \"max\": 0.8648175477981568}}}\u001b[0m\n",
      "\u001b[34m#metrics {\"StartTime\": 1679162661.782238, \"EndTime\": 1679162661.7822542, \"Dimensions\": {\"Algorithm\": \"Linear Learner\", \"Host\": \"algo-1\", \"Operation\": \"training\", \"epoch\": 0, \"model\": 31}, \"Metrics\": {\"train_absolute_loss_objective\": {\"sum\": 0.8648236215114593, \"count\": 1, \"min\": 0.8648236215114593, \"max\": 0.8648236215114593}}}\u001b[0m\n",
      "\u001b[34m[03/18/2023 18:04:21 INFO 140106430957376] #quality_metric: host=algo-1, epoch=0, train absolute_loss_objective <loss>=0.7483759075403214\u001b[0m\n",
      "\u001b[34m[03/18/2023 18:04:21 INFO 140106430957376] #early_stopping_criteria_metric: host=algo-1, epoch=0, criteria=absolute_loss_objective, value=0.5151260137557984\u001b[0m\n",
      "\u001b[34m[03/18/2023 18:04:21 INFO 140106430957376] Epoch 0: Loss improved. Updating best model\u001b[0m\n",
      "\u001b[34m[03/18/2023 18:04:21 INFO 140106430957376] Saving model for epoch: 0\u001b[0m\n",
      "\u001b[34m[03/18/2023 18:04:21 INFO 140106430957376] Saved checkpoint to \"/tmp/tmpqpnxdd2u/mx-mod-0000.params\"\u001b[0m\n",
      "\u001b[34m[03/18/2023 18:04:21 INFO 140106430957376] #progress_metric: host=algo-1, completed 20.0 % of epochs\u001b[0m\n",
      "\u001b[34m#metrics {\"StartTime\": 1679162661.4384012, \"EndTime\": 1679162661.792326, \"Dimensions\": {\"Algorithm\": \"Linear Learner\", \"Host\": \"algo-1\", \"Operation\": \"training\", \"epoch\": 0, \"Meta\": \"training_data_iter\"}, \"Metrics\": {\"Total Records Seen\": {\"sum\": 165.0, \"count\": 1, \"min\": 165, \"max\": 165}, \"Total Batches Seen\": {\"sum\": 33.0, \"count\": 1, \"min\": 33, \"max\": 33}, \"Max Records Seen Between Resets\": {\"sum\": 80.0, \"count\": 1, \"min\": 80, \"max\": 80}, \"Max Batches Seen Between Resets\": {\"sum\": 16.0, \"count\": 1, \"min\": 16, \"max\": 16}, \"Reset Count\": {\"sum\": 3.0, \"count\": 1, \"min\": 3, \"max\": 3}, \"Number of Records Since Last Reset\": {\"sum\": 80.0, \"count\": 1, \"min\": 80, \"max\": 80}, \"Number of Batches Since Last Reset\": {\"sum\": 16.0, \"count\": 1, \"min\": 16, \"max\": 16}}}\u001b[0m\n",
      "\u001b[34m[03/18/2023 18:04:21 INFO 140106430957376] #throughput_metric: host=algo-1, train throughput=225.9396433655241 records/second\u001b[0m\n",
      "\u001b[34m[2023-03-18 18:04:22.158] [tensorio] [info] epoch_stats={\"data_pipeline\": \"/opt/ml/input/data/train\", \"epoch\": 6, \"duration\": 365, \"num_examples\": 16, \"num_bytes\": 3840}\u001b[0m\n",
      "\u001b[34m#metrics {\"StartTime\": 1679162662.1588044, \"EndTime\": 1679162662.1588898, \"Dimensions\": {\"Algorithm\": \"Linear Learner\", \"Host\": \"algo-1\", \"Operation\": \"training\", \"epoch\": 1, \"model\": 0}, \"Metrics\": {\"train_absolute_loss_objective\": {\"sum\": 0.6961439624428749, \"count\": 1, \"min\": 0.6961439624428749, \"max\": 0.6961439624428749}}}\u001b[0m\n",
      "\u001b[34m#metrics {\"StartTime\": 1679162662.1590054, \"EndTime\": 1679162662.1590247, \"Dimensions\": {\"Algorithm\": \"Linear Learner\", \"Host\": \"algo-1\", \"Operation\": \"training\", \"epoch\": 1, \"model\": 1}, \"Metrics\": {\"train_absolute_loss_objective\": {\"sum\": 0.6800221234560013, \"count\": 1, \"min\": 0.6800221234560013, \"max\": 0.6800221234560013}}}\u001b[0m\n",
      "\u001b[34m#metrics {\"StartTime\": 1679162662.159093, \"EndTime\": 1679162662.1591094, \"Dimensions\": {\"Algorithm\": \"Linear Learner\", \"Host\": \"algo-1\", \"Operation\": \"training\", \"epoch\": 1, \"model\": 2}, \"Metrics\": {\"train_absolute_loss_objective\": {\"sum\": 0.6941801309585571, \"count\": 1, \"min\": 0.6941801309585571, \"max\": 0.6941801309585571}}}\u001b[0m\n",
      "\u001b[34m#metrics {\"StartTime\": 1679162662.1591673, \"EndTime\": 1679162662.159188, \"Dimensions\": {\"Algorithm\": \"Linear Learner\", \"Host\": \"algo-1\", \"Operation\": \"training\", \"epoch\": 1, \"model\": 3}, \"Metrics\": {\"train_absolute_loss_objective\": {\"sum\": 0.6808505952358246, \"count\": 1, \"min\": 0.6808505952358246, \"max\": 0.6808505952358246}}}\u001b[0m\n",
      "\u001b[34m#metrics {\"StartTime\": 1679162662.1592646, \"EndTime\": 1679162662.15928, \"Dimensions\": {\"Algorithm\": \"Linear Learner\", \"Host\": \"algo-1\", \"Operation\": \"training\", \"epoch\": 1, \"model\": 4}, \"Metrics\": {\"train_absolute_loss_objective\": {\"sum\": 0.49034434258937837, \"count\": 1, \"min\": 0.49034434258937837, \"max\": 0.49034434258937837}}}\u001b[0m\n",
      "\u001b[34m#metrics {\"StartTime\": 1679162662.1593459, \"EndTime\": 1679162662.1593635, \"Dimensions\": {\"Algorithm\": \"Linear Learner\", \"Host\": \"algo-1\", \"Operation\": \"training\", \"epoch\": 1, \"model\": 5}, \"Metrics\": {\"train_absolute_loss_objective\": {\"sum\": 0.42659442573785783, \"count\": 1, \"min\": 0.42659442573785783, \"max\": 0.42659442573785783}}}\u001b[0m\n",
      "\u001b[34m#metrics {\"StartTime\": 1679162662.1594346, \"EndTime\": 1679162662.1594539, \"Dimensions\": {\"Algorithm\": \"Linear Learner\", \"Host\": \"algo-1\", \"Operation\": \"training\", \"epoch\": 1, \"model\": 6}, \"Metrics\": {\"train_absolute_loss_objective\": {\"sum\": 0.4493521600961685, \"count\": 1, \"min\": 0.4493521600961685, \"max\": 0.4493521600961685}}}\u001b[0m\n",
      "\u001b[34m#metrics {\"StartTime\": 1679162662.1595109, \"EndTime\": 1679162662.1595285, \"Dimensions\": {\"Algorithm\": \"Linear Learner\", \"Host\": \"algo-1\", \"Operation\": \"training\", \"epoch\": 1, \"model\": 7}, \"Metrics\": {\"train_absolute_loss_objective\": {\"sum\": 0.43792733997106553, \"count\": 1, \"min\": 0.43792733997106553, \"max\": 0.43792733997106553}}}\u001b[0m\n",
      "\u001b[34m#metrics {\"StartTime\": 1679162662.1595926, \"EndTime\": 1679162662.159609, \"Dimensions\": {\"Algorithm\": \"Linear Learner\", \"Host\": \"algo-1\", \"Operation\": \"training\", \"epoch\": 1, \"model\": 8}, \"Metrics\": {\"train_absolute_loss_objective\": {\"sum\": 0.6517563611268997, \"count\": 1, \"min\": 0.6517563611268997, \"max\": 0.6517563611268997}}}\u001b[0m\n",
      "\u001b[34m#metrics {\"StartTime\": 1679162662.159668, \"EndTime\": 1679162662.159691, \"Dimensions\": {\"Algorithm\": \"Linear Learner\", \"Host\": \"algo-1\", \"Operation\": \"training\", \"epoch\": 1, \"model\": 9}, \"Metrics\": {\"train_absolute_loss_objective\": {\"sum\": 0.7055185019969941, \"count\": 1, \"min\": 0.7055185019969941, \"max\": 0.7055185019969941}}}\u001b[0m\n",
      "\u001b[34m#metrics {\"StartTime\": 1679162662.1597433, \"EndTime\": 1679162662.1597595, \"Dimensions\": {\"Algorithm\": \"Linear Learner\", \"Host\": \"algo-1\", \"Operation\": \"training\", \"epoch\": 1, \"model\": 10}, \"Metrics\": {\"train_absolute_loss_objective\": {\"sum\": 0.7004954352974891, \"count\": 1, \"min\": 0.7004954352974891, \"max\": 0.7004954352974891}}}\u001b[0m\n",
      "\u001b[34m#metrics {\"StartTime\": 1679162662.1598215, \"EndTime\": 1679162662.159836, \"Dimensions\": {\"Algorithm\": \"Linear Learner\", \"Host\": \"algo-1\", \"Operation\": \"training\", \"epoch\": 1, \"model\": 11}, \"Metrics\": {\"train_absolute_loss_objective\": {\"sum\": 0.7121761426329613, \"count\": 1, \"min\": 0.7121761426329613, \"max\": 0.7121761426329613}}}\u001b[0m\n",
      "\u001b[34m#metrics {\"StartTime\": 1679162662.15988, \"EndTime\": 1679162662.1598935, \"Dimensions\": {\"Algorithm\": \"Linear Learner\", \"Host\": \"algo-1\", \"Operation\": \"training\", \"epoch\": 1, \"model\": 12}, \"Metrics\": {\"train_absolute_loss_objective\": {\"sum\": 0.41263211965560914, \"count\": 1, \"min\": 0.41263211965560914, \"max\": 0.41263211965560914}}}\u001b[0m\n",
      "\u001b[34m#metrics {\"StartTime\": 1679162662.1599224, \"EndTime\": 1679162662.1599393, \"Dimensions\": {\"Algorithm\": \"Linear Learner\", \"Host\": \"algo-1\", \"Operation\": \"training\", \"epoch\": 1, \"model\": 13}, \"Metrics\": {\"train_absolute_loss_objective\": {\"sum\": 0.40292923897504807, \"count\": 1, \"min\": 0.40292923897504807, \"max\": 0.40292923897504807}}}\u001b[0m\n",
      "\u001b[34m#metrics {\"StartTime\": 1679162662.1599882, \"EndTime\": 1679162662.1600032, \"Dimensions\": {\"Algorithm\": \"Linear Learner\", \"Host\": \"algo-1\", \"Operation\": \"training\", \"epoch\": 1, \"model\": 14}, \"Metrics\": {\"train_absolute_loss_objective\": {\"sum\": 0.41203672587871554, \"count\": 1, \"min\": 0.41203672587871554, \"max\": 0.41203672587871554}}}\u001b[0m\n",
      "\u001b[34m#metrics {\"StartTime\": 1679162662.1600647, \"EndTime\": 1679162662.160075, \"Dimensions\": {\"Algorithm\": \"Linear Learner\", \"Host\": \"algo-1\", \"Operation\": \"training\", \"epoch\": 1, \"model\": 15}, \"Metrics\": {\"train_absolute_loss_objective\": {\"sum\": 0.44289990067481994, \"count\": 1, \"min\": 0.44289990067481994, \"max\": 0.44289990067481994}}}\u001b[0m\n",
      "\u001b[34m#metrics {\"StartTime\": 1679162662.1601112, \"EndTime\": 1679162662.1601148, \"Dimensions\": {\"Algorithm\": \"Linear Learner\", \"Host\": \"algo-1\", \"Operation\": \"training\", \"epoch\": 1, \"model\": 16}, \"Metrics\": {\"train_absolute_loss_objective\": {\"sum\": 0.7265138626098633, \"count\": 1, \"min\": 0.7265138626098633, \"max\": 0.7265138626098633}}}\u001b[0m\n",
      "\u001b[34m#metrics {\"StartTime\": 1679162662.1601403, \"EndTime\": 1679162662.1601517, \"Dimensions\": {\"Algorithm\": \"Linear Learner\", \"Host\": \"algo-1\", \"Operation\": \"training\", \"epoch\": 1, \"model\": 17}, \"Metrics\": {\"train_absolute_loss_objective\": {\"sum\": 0.6853683590888977, \"count\": 1, \"min\": 0.6853683590888977, \"max\": 0.6853683590888977}}}\u001b[0m\n",
      "\u001b[34m#metrics {\"StartTime\": 1679162662.160201, \"EndTime\": 1679162662.160212, \"Dimensions\": {\"Algorithm\": \"Linear Learner\", \"Host\": \"algo-1\", \"Operation\": \"training\", \"epoch\": 1, \"model\": 18}, \"Metrics\": {\"train_absolute_loss_objective\": {\"sum\": 0.7045534044504166, \"count\": 1, \"min\": 0.7045534044504166, \"max\": 0.7045534044504166}}}\u001b[0m\n",
      "\u001b[34m#metrics {\"StartTime\": 1679162662.1602437, \"EndTime\": 1679162662.160252, \"Dimensions\": {\"Algorithm\": \"Linear Learner\", \"Host\": \"algo-1\", \"Operation\": \"training\", \"epoch\": 1, \"model\": 19}, \"Metrics\": {\"train_absolute_loss_objective\": {\"sum\": 0.7063022941350937, \"count\": 1, \"min\": 0.7063022941350937, \"max\": 0.7063022941350937}}}\u001b[0m\n",
      "\u001b[34m#metrics {\"StartTime\": 1679162662.1602778, \"EndTime\": 1679162662.1602879, \"Dimensions\": {\"Algorithm\": \"Linear Learner\", \"Host\": \"algo-1\", \"Operation\": \"training\", \"epoch\": 1, \"model\": 20}, \"Metrics\": {\"train_absolute_loss_objective\": {\"sum\": 0.4444207906723022, \"count\": 1, \"min\": 0.4444207906723022, \"max\": 0.4444207906723022}}}\u001b[0m\n",
      "\u001b[34m#metrics {\"StartTime\": 1679162662.1603389, \"EndTime\": 1679162662.1603446, \"Dimensions\": {\"Algorithm\": \"Linear Learner\", \"Host\": \"algo-1\", \"Operation\": \"training\", \"epoch\": 1, \"model\": 21}, \"Metrics\": {\"train_absolute_loss_objective\": {\"sum\": 0.49113932996988297, \"count\": 1, \"min\": 0.49113932996988297, \"max\": 0.49113932996988297}}}\u001b[0m\n",
      "\u001b[34m#metrics {\"StartTime\": 1679162662.160377, \"EndTime\": 1679162662.1603801, \"Dimensions\": {\"Algorithm\": \"Linear Learner\", \"Host\": \"algo-1\", \"Operation\": \"training\", \"epoch\": 1, \"model\": 22}, \"Metrics\": {\"train_absolute_loss_objective\": {\"sum\": 0.42427328005433085, \"count\": 1, \"min\": 0.42427328005433085, \"max\": 0.42427328005433085}}}\u001b[0m\n",
      "\u001b[34m#metrics {\"StartTime\": 1679162662.1604066, \"EndTime\": 1679162662.1604173, \"Dimensions\": {\"Algorithm\": \"Linear Learner\", \"Host\": \"algo-1\", \"Operation\": \"training\", \"epoch\": 1, \"model\": 23}, \"Metrics\": {\"train_absolute_loss_objective\": {\"sum\": 0.49703902304172515, \"count\": 1, \"min\": 0.49703902304172515, \"max\": 0.49703902304172515}}}\u001b[0m\n",
      "\u001b[34m#metrics {\"StartTime\": 1679162662.1604595, \"EndTime\": 1679162662.1604755, \"Dimensions\": {\"Algorithm\": \"Linear Learner\", \"Host\": \"algo-1\", \"Operation\": \"training\", \"epoch\": 1, \"model\": 24}, \"Metrics\": {\"train_absolute_loss_objective\": {\"sum\": 0.7536172777414322, \"count\": 1, \"min\": 0.7536172777414322, \"max\": 0.7536172777414322}}}\u001b[0m\n",
      "\u001b[34m#metrics {\"StartTime\": 1679162662.160505, \"EndTime\": 1679162662.1605136, \"Dimensions\": {\"Algorithm\": \"Linear Learner\", \"Host\": \"algo-1\", \"Operation\": \"training\", \"epoch\": 1, \"model\": 25}, \"Metrics\": {\"train_absolute_loss_objective\": {\"sum\": 0.7582202702760696, \"count\": 1, \"min\": 0.7582202702760696, \"max\": 0.7582202702760696}}}\u001b[0m\n",
      "\u001b[34m#metrics {\"StartTime\": 1679162662.1605365, \"EndTime\": 1679162662.160546, \"Dimensions\": {\"Algorithm\": \"Linear Learner\", \"Host\": \"algo-1\", \"Operation\": \"training\", \"epoch\": 1, \"model\": 26}, \"Metrics\": {\"train_absolute_loss_objective\": {\"sum\": 0.7598476111888885, \"count\": 1, \"min\": 0.7598476111888885, \"max\": 0.7598476111888885}}}\u001b[0m\n",
      "\u001b[34m#metrics {\"StartTime\": 1679162662.160591, \"EndTime\": 1679162662.1606014, \"Dimensions\": {\"Algorithm\": \"Linear Learner\", \"Host\": \"algo-1\", \"Operation\": \"training\", \"epoch\": 1, \"model\": 27}, \"Metrics\": {\"train_absolute_loss_objective\": {\"sum\": 0.7591899067163468, \"count\": 1, \"min\": 0.7591899067163468, \"max\": 0.7591899067163468}}}\u001b[0m\n",
      "\u001b[34m#metrics {\"StartTime\": 1679162662.1606507, \"EndTime\": 1679162662.160664, \"Dimensions\": {\"Algorithm\": \"Linear Learner\", \"Host\": \"algo-1\", \"Operation\": \"training\", \"epoch\": 1, \"model\": 28}, \"Metrics\": {\"train_absolute_loss_objective\": {\"sum\": 0.8276137769222259, \"count\": 1, \"min\": 0.8276137769222259, \"max\": 0.8276137769222259}}}\u001b[0m\n",
      "\u001b[34m#metrics {\"StartTime\": 1679162662.160718, \"EndTime\": 1679162662.1607337, \"Dimensions\": {\"Algorithm\": \"Linear Learner\", \"Host\": \"algo-1\", \"Operation\": \"training\", \"epoch\": 1, \"model\": 29}, \"Metrics\": {\"train_absolute_loss_objective\": {\"sum\": 0.8307012990117073, \"count\": 1, \"min\": 0.8307012990117073, \"max\": 0.8307012990117073}}}\u001b[0m\n",
      "\u001b[34m#metrics {\"StartTime\": 1679162662.1607969, \"EndTime\": 1679162662.1608093, \"Dimensions\": {\"Algorithm\": \"Linear Learner\", \"Host\": \"algo-1\", \"Operation\": \"training\", \"epoch\": 1, \"model\": 30}, \"Metrics\": {\"train_absolute_loss_objective\": {\"sum\": 0.82747533172369, \"count\": 1, \"min\": 0.82747533172369, \"max\": 0.82747533172369}}}\u001b[0m\n",
      "\u001b[34m#metrics {\"StartTime\": 1679162662.160856, \"EndTime\": 1679162662.1608665, \"Dimensions\": {\"Algorithm\": \"Linear Learner\", \"Host\": \"algo-1\", \"Operation\": \"training\", \"epoch\": 1, \"model\": 31}, \"Metrics\": {\"train_absolute_loss_objective\": {\"sum\": 0.8291932165622711, \"count\": 1, \"min\": 0.8291932165622711, \"max\": 0.8291932165622711}}}\u001b[0m\n",
      "\u001b[34m[03/18/2023 18:04:22 INFO 140106430957376] #quality_metric: host=algo-1, epoch=1, train absolute_loss_objective <loss>=0.6961439624428749\u001b[0m\n",
      "\u001b[34m[03/18/2023 18:04:22 INFO 140106430957376] #early_stopping_criteria_metric: host=algo-1, epoch=1, criteria=absolute_loss_objective, value=0.40292923897504807\u001b[0m\n",
      "\u001b[34m[03/18/2023 18:04:22 INFO 140106430957376] Epoch 1: Loss improved. Updating best model\u001b[0m\n",
      "\u001b[34m[03/18/2023 18:04:22 INFO 140106430957376] Saving model for epoch: 1\u001b[0m\n",
      "\u001b[34m[03/18/2023 18:04:22 INFO 140106430957376] Saved checkpoint to \"/tmp/tmp_thjwwrr/mx-mod-0000.params\"\u001b[0m\n",
      "\u001b[34m[03/18/2023 18:04:22 INFO 140106430957376] #progress_metric: host=algo-1, completed 40.0 % of epochs\u001b[0m\n",
      "\u001b[34m#metrics {\"StartTime\": 1679162661.792673, \"EndTime\": 1679162662.1702733, \"Dimensions\": {\"Algorithm\": \"Linear Learner\", \"Host\": \"algo-1\", \"Operation\": \"training\", \"epoch\": 1, \"Meta\": \"training_data_iter\"}, \"Metrics\": {\"Total Records Seen\": {\"sum\": 245.0, \"count\": 1, \"min\": 245, \"max\": 245}, \"Total Batches Seen\": {\"sum\": 49.0, \"count\": 1, \"min\": 49, \"max\": 49}, \"Max Records Seen Between Resets\": {\"sum\": 80.0, \"count\": 1, \"min\": 80, \"max\": 80}, \"Max Batches Seen Between Resets\": {\"sum\": 16.0, \"count\": 1, \"min\": 16, \"max\": 16}, \"Reset Count\": {\"sum\": 4.0, \"count\": 1, \"min\": 4, \"max\": 4}, \"Number of Records Since Last Reset\": {\"sum\": 80.0, \"count\": 1, \"min\": 80, \"max\": 80}, \"Number of Batches Since Last Reset\": {\"sum\": 16.0, \"count\": 1, \"min\": 16, \"max\": 16}}}\u001b[0m\n",
      "\u001b[34m[03/18/2023 18:04:22 INFO 140106430957376] #throughput_metric: host=algo-1, train throughput=211.77952087977562 records/second\u001b[0m\n",
      "\u001b[34m[2023-03-18 18:04:22.514] [tensorio] [info] epoch_stats={\"data_pipeline\": \"/opt/ml/input/data/train\", \"epoch\": 8, \"duration\": 343, \"num_examples\": 16, \"num_bytes\": 3840}\u001b[0m\n",
      "\u001b[34m#metrics {\"StartTime\": 1679162662.5146494, \"EndTime\": 1679162662.5147362, \"Dimensions\": {\"Algorithm\": \"Linear Learner\", \"Host\": \"algo-1\", \"Operation\": \"training\", \"epoch\": 2, \"model\": 0}, \"Metrics\": {\"train_absolute_loss_objective\": {\"sum\": 0.647677193582058, \"count\": 1, \"min\": 0.647677193582058, \"max\": 0.647677193582058}}}\u001b[0m\n",
      "\u001b[34m#metrics {\"StartTime\": 1679162662.514842, \"EndTime\": 1679162662.5148628, \"Dimensions\": {\"Algorithm\": \"Linear Learner\", \"Host\": \"algo-1\", \"Operation\": \"training\", \"epoch\": 2, \"model\": 1}, \"Metrics\": {\"train_absolute_loss_objective\": {\"sum\": 0.6307207316160202, \"count\": 1, \"min\": 0.6307207316160202, \"max\": 0.6307207316160202}}}\u001b[0m\n",
      "\u001b[34m#metrics {\"StartTime\": 1679162662.5149255, \"EndTime\": 1679162662.5149431, \"Dimensions\": {\"Algorithm\": \"Linear Learner\", \"Host\": \"algo-1\", \"Operation\": \"training\", \"epoch\": 2, \"model\": 2}, \"Metrics\": {\"train_absolute_loss_objective\": {\"sum\": 0.6457470804452896, \"count\": 1, \"min\": 0.6457470804452896, \"max\": 0.6457470804452896}}}\u001b[0m\n",
      "\u001b[34m#metrics {\"StartTime\": 1679162662.51499, \"EndTime\": 1679162662.5150049, \"Dimensions\": {\"Algorithm\": \"Linear Learner\", \"Host\": \"algo-1\", \"Operation\": \"training\", \"epoch\": 2, \"model\": 3}, \"Metrics\": {\"train_absolute_loss_objective\": {\"sum\": 0.6315349638462067, \"count\": 1, \"min\": 0.6315349638462067, \"max\": 0.6315349638462067}}}\u001b[0m\n",
      "\u001b[34m#metrics {\"StartTime\": 1679162662.515055, \"EndTime\": 1679162662.515072, \"Dimensions\": {\"Algorithm\": \"Linear Learner\", \"Host\": \"algo-1\", \"Operation\": \"training\", \"epoch\": 2, \"model\": 4}, \"Metrics\": {\"train_absolute_loss_objective\": {\"sum\": 0.340693861246109, \"count\": 1, \"min\": 0.340693861246109, \"max\": 0.340693861246109}}}\u001b[0m\n",
      "\u001b[34m#metrics {\"StartTime\": 1679162662.515122, \"EndTime\": 1679162662.5151355, \"Dimensions\": {\"Algorithm\": \"Linear Learner\", \"Host\": \"algo-1\", \"Operation\": \"training\", \"epoch\": 2, \"model\": 5}, \"Metrics\": {\"train_absolute_loss_objective\": {\"sum\": 0.3012044280767441, \"count\": 1, \"min\": 0.3012044280767441, \"max\": 0.3012044280767441}}}\u001b[0m\n",
      "\u001b[34m#metrics {\"StartTime\": 1679162662.5151784, \"EndTime\": 1679162662.5151925, \"Dimensions\": {\"Algorithm\": \"Linear Learner\", \"Host\": \"algo-1\", \"Operation\": \"training\", \"epoch\": 2, \"model\": 6}, \"Metrics\": {\"train_absolute_loss_objective\": {\"sum\": 0.29237681031227114, \"count\": 1, \"min\": 0.29237681031227114, \"max\": 0.29237681031227114}}}\u001b[0m\n",
      "\u001b[34m#metrics {\"StartTime\": 1679162662.515241, \"EndTime\": 1679162662.5152547, \"Dimensions\": {\"Algorithm\": \"Linear Learner\", \"Host\": \"algo-1\", \"Operation\": \"training\", \"epoch\": 2, \"model\": 7}, \"Metrics\": {\"train_absolute_loss_objective\": {\"sum\": 0.31999406665563584, \"count\": 1, \"min\": 0.31999406665563584, \"max\": 0.31999406665563584}}}\u001b[0m\n",
      "\u001b[34m#metrics {\"StartTime\": 1679162662.5153034, \"EndTime\": 1679162662.5153205, \"Dimensions\": {\"Algorithm\": \"Linear Learner\", \"Host\": \"algo-1\", \"Operation\": \"training\", \"epoch\": 2, \"model\": 8}, \"Metrics\": {\"train_absolute_loss_objective\": {\"sum\": 0.6043098986148834, \"count\": 1, \"min\": 0.6043098986148834, \"max\": 0.6043098986148834}}}\u001b[0m\n",
      "\u001b[34m#metrics {\"StartTime\": 1679162662.5153677, \"EndTime\": 1679162662.515381, \"Dimensions\": {\"Algorithm\": \"Linear Learner\", \"Host\": \"algo-1\", \"Operation\": \"training\", \"epoch\": 2, \"model\": 9}, \"Metrics\": {\"train_absolute_loss_objective\": {\"sum\": 0.6557067811489106, \"count\": 1, \"min\": 0.6557067811489106, \"max\": 0.6557067811489106}}}\u001b[0m\n",
      "\u001b[34m#metrics {\"StartTime\": 1679162662.5154297, \"EndTime\": 1679162662.5154443, \"Dimensions\": {\"Algorithm\": \"Linear Learner\", \"Host\": \"algo-1\", \"Operation\": \"training\", \"epoch\": 2, \"model\": 10}, \"Metrics\": {\"train_absolute_loss_objective\": {\"sum\": 0.651983805000782, \"count\": 1, \"min\": 0.651983805000782, \"max\": 0.651983805000782}}}\u001b[0m\n",
      "\u001b[34m#metrics {\"StartTime\": 1679162662.5154912, \"EndTime\": 1679162662.5155067, \"Dimensions\": {\"Algorithm\": \"Linear Learner\", \"Host\": \"algo-1\", \"Operation\": \"training\", \"epoch\": 2, \"model\": 11}, \"Metrics\": {\"train_absolute_loss_objective\": {\"sum\": 0.6638216465711594, \"count\": 1, \"min\": 0.6638216465711594, \"max\": 0.6638216465711594}}}\u001b[0m\n",
      "\u001b[34m#metrics {\"StartTime\": 1679162662.5155587, \"EndTime\": 1679162662.5155778, \"Dimensions\": {\"Algorithm\": \"Linear Learner\", \"Host\": \"algo-1\", \"Operation\": \"training\", \"epoch\": 2, \"model\": 12}, \"Metrics\": {\"train_absolute_loss_objective\": {\"sum\": 0.27909856885671613, \"count\": 1, \"min\": 0.27909856885671613, \"max\": 0.27909856885671613}}}\u001b[0m\n",
      "\u001b[34m#metrics {\"StartTime\": 1679162662.5156243, \"EndTime\": 1679162662.51564, \"Dimensions\": {\"Algorithm\": \"Linear Learner\", \"Host\": \"algo-1\", \"Operation\": \"training\", \"epoch\": 2, \"model\": 13}, \"Metrics\": {\"train_absolute_loss_objective\": {\"sum\": 0.29364975094795226, \"count\": 1, \"min\": 0.29364975094795226, \"max\": 0.29364975094795226}}}\u001b[0m\n",
      "\u001b[34m#metrics {\"StartTime\": 1679162662.5156934, \"EndTime\": 1679162662.5157073, \"Dimensions\": {\"Algorithm\": \"Linear Learner\", \"Host\": \"algo-1\", \"Operation\": \"training\", \"epoch\": 2, \"model\": 14}, \"Metrics\": {\"train_absolute_loss_objective\": {\"sum\": 0.27932877987623217, \"count\": 1, \"min\": 0.27932877987623217, \"max\": 0.27932877987623217}}}\u001b[0m\n",
      "\u001b[34m#metrics {\"StartTime\": 1679162662.5157623, \"EndTime\": 1679162662.5157757, \"Dimensions\": {\"Algorithm\": \"Linear Learner\", \"Host\": \"algo-1\", \"Operation\": \"training\", \"epoch\": 2, \"model\": 15}, \"Metrics\": {\"train_absolute_loss_objective\": {\"sum\": 0.3206209257245064, \"count\": 1, \"min\": 0.3206209257245064, \"max\": 0.3206209257245064}}}\u001b[0m\n",
      "\u001b[34m#metrics {\"StartTime\": 1679162662.5158134, \"EndTime\": 1679162662.5158277, \"Dimensions\": {\"Algorithm\": \"Linear Learner\", \"Host\": \"algo-1\", \"Operation\": \"training\", \"epoch\": 2, \"model\": 16}, \"Metrics\": {\"train_absolute_loss_objective\": {\"sum\": 0.6816685631871223, \"count\": 1, \"min\": 0.6816685631871223, \"max\": 0.6816685631871223}}}\u001b[0m\n",
      "\u001b[34m#metrics {\"StartTime\": 1679162662.5158784, \"EndTime\": 1679162662.5158951, \"Dimensions\": {\"Algorithm\": \"Linear Learner\", \"Host\": \"algo-1\", \"Operation\": \"training\", \"epoch\": 2, \"model\": 17}, \"Metrics\": {\"train_absolute_loss_objective\": {\"sum\": 0.6397995442152024, \"count\": 1, \"min\": 0.6397995442152024, \"max\": 0.6397995442152024}}}\u001b[0m\n",
      "\u001b[34m#metrics {\"StartTime\": 1679162662.5159495, \"EndTime\": 1679162662.5159616, \"Dimensions\": {\"Algorithm\": \"Linear Learner\", \"Host\": \"algo-1\", \"Operation\": \"training\", \"epoch\": 2, \"model\": 18}, \"Metrics\": {\"train_absolute_loss_objective\": {\"sum\": 0.6591030895709992, \"count\": 1, \"min\": 0.6591030895709992, \"max\": 0.6591030895709992}}}\u001b[0m\n",
      "\u001b[34m#metrics {\"StartTime\": 1679162662.5160046, \"EndTime\": 1679162662.5160198, \"Dimensions\": {\"Algorithm\": \"Linear Learner\", \"Host\": \"algo-1\", \"Operation\": \"training\", \"epoch\": 2, \"model\": 19}, \"Metrics\": {\"train_absolute_loss_objective\": {\"sum\": 0.6596792787313461, \"count\": 1, \"min\": 0.6596792787313461, \"max\": 0.6596792787313461}}}\u001b[0m\n",
      "\u001b[34m#metrics {\"StartTime\": 1679162662.516052, \"EndTime\": 1679162662.5160618, \"Dimensions\": {\"Algorithm\": \"Linear Learner\", \"Host\": \"algo-1\", \"Operation\": \"training\", \"epoch\": 2, \"model\": 20}, \"Metrics\": {\"train_absolute_loss_objective\": {\"sum\": 0.4706579491496086, \"count\": 1, \"min\": 0.4706579491496086, \"max\": 0.4706579491496086}}}\u001b[0m\n",
      "\u001b[34m#metrics {\"StartTime\": 1679162662.5161104, \"EndTime\": 1679162662.5161233, \"Dimensions\": {\"Algorithm\": \"Linear Learner\", \"Host\": \"algo-1\", \"Operation\": \"training\", \"epoch\": 2, \"model\": 21}, \"Metrics\": {\"train_absolute_loss_objective\": {\"sum\": 0.4293725699186325, \"count\": 1, \"min\": 0.4293725699186325, \"max\": 0.4293725699186325}}}\u001b[0m\n",
      "\u001b[34m#metrics {\"StartTime\": 1679162662.5161734, \"EndTime\": 1679162662.5161886, \"Dimensions\": {\"Algorithm\": \"Linear Learner\", \"Host\": \"algo-1\", \"Operation\": \"training\", \"epoch\": 2, \"model\": 22}, \"Metrics\": {\"train_absolute_loss_objective\": {\"sum\": 0.4765196293592453, \"count\": 1, \"min\": 0.4765196293592453, \"max\": 0.4765196293592453}}}\u001b[0m\n",
      "\u001b[34m#metrics {\"StartTime\": 1679162662.5162446, \"EndTime\": 1679162662.5162578, \"Dimensions\": {\"Algorithm\": \"Linear Learner\", \"Host\": \"algo-1\", \"Operation\": \"training\", \"epoch\": 2, \"model\": 23}, \"Metrics\": {\"train_absolute_loss_objective\": {\"sum\": 0.428497713804245, \"count\": 1, \"min\": 0.428497713804245, \"max\": 0.428497713804245}}}\u001b[0m\n",
      "\u001b[34m#metrics {\"StartTime\": 1679162662.5163088, \"EndTime\": 1679162662.5163245, \"Dimensions\": {\"Algorithm\": \"Linear Learner\", \"Host\": \"algo-1\", \"Operation\": \"training\", \"epoch\": 2, \"model\": 24}, \"Metrics\": {\"train_absolute_loss_objective\": {\"sum\": 0.7562298223376274, \"count\": 1, \"min\": 0.7562298223376274, \"max\": 0.7562298223376274}}}\u001b[0m\n",
      "\u001b[34m#metrics {\"StartTime\": 1679162662.5163777, \"EndTime\": 1679162662.5163934, \"Dimensions\": {\"Algorithm\": \"Linear Learner\", \"Host\": \"algo-1\", \"Operation\": \"training\", \"epoch\": 2, \"model\": 25}, \"Metrics\": {\"train_absolute_loss_objective\": {\"sum\": 0.7607398450374603, \"count\": 1, \"min\": 0.7607398450374603, \"max\": 0.7607398450374603}}}\u001b[0m\n",
      "\u001b[34m#metrics {\"StartTime\": 1679162662.5164454, \"EndTime\": 1679162662.5164602, \"Dimensions\": {\"Algorithm\": \"Linear Learner\", \"Host\": \"algo-1\", \"Operation\": \"training\", \"epoch\": 2, \"model\": 26}, \"Metrics\": {\"train_absolute_loss_objective\": {\"sum\": 0.7602422013878822, \"count\": 1, \"min\": 0.7602422013878822, \"max\": 0.7602422013878822}}}\u001b[0m\n",
      "\u001b[34m#metrics {\"StartTime\": 1679162662.5165148, \"EndTime\": 1679162662.5165296, \"Dimensions\": {\"Algorithm\": \"Linear Learner\", \"Host\": \"algo-1\", \"Operation\": \"training\", \"epoch\": 2, \"model\": 27}, \"Metrics\": {\"train_absolute_loss_objective\": {\"sum\": 0.7595405280590057, \"count\": 1, \"min\": 0.7595405280590057, \"max\": 0.7595405280590057}}}\u001b[0m\n",
      "\u001b[34m#metrics {\"StartTime\": 1679162662.5165777, \"EndTime\": 1679162662.516594, \"Dimensions\": {\"Algorithm\": \"Linear Learner\", \"Host\": \"algo-1\", \"Operation\": \"training\", \"epoch\": 2, \"model\": 28}, \"Metrics\": {\"train_absolute_loss_objective\": {\"sum\": 0.8004818528890609, \"count\": 1, \"min\": 0.8004818528890609, \"max\": 0.8004818528890609}}}\u001b[0m\n",
      "\u001b[34m#metrics {\"StartTime\": 1679162662.5166433, \"EndTime\": 1679162662.5166585, \"Dimensions\": {\"Algorithm\": \"Linear Learner\", \"Host\": \"algo-1\", \"Operation\": \"training\", \"epoch\": 2, \"model\": 29}, \"Metrics\": {\"train_absolute_loss_objective\": {\"sum\": 0.8026882916688919, \"count\": 1, \"min\": 0.8026882916688919, \"max\": 0.8026882916688919}}}\u001b[0m\n",
      "\u001b[34m#metrics {\"StartTime\": 1679162662.516705, \"EndTime\": 1679162662.51672, \"Dimensions\": {\"Algorithm\": \"Linear Learner\", \"Host\": \"algo-1\", \"Operation\": \"training\", \"epoch\": 2, \"model\": 30}, \"Metrics\": {\"train_absolute_loss_objective\": {\"sum\": 0.7996177822351456, \"count\": 1, \"min\": 0.7996177822351456, \"max\": 0.7996177822351456}}}\u001b[0m\n",
      "\u001b[34m#metrics {\"StartTime\": 1679162662.5167723, \"EndTime\": 1679162662.516786, \"Dimensions\": {\"Algorithm\": \"Linear Learner\", \"Host\": \"algo-1\", \"Operation\": \"training\", \"epoch\": 2, \"model\": 31}, \"Metrics\": {\"train_absolute_loss_objective\": {\"sum\": 0.8031395137310028, \"count\": 1, \"min\": 0.8031395137310028, \"max\": 0.8031395137310028}}}\u001b[0m\n",
      "\u001b[34m[03/18/2023 18:04:22 INFO 140106430957376] #quality_metric: host=algo-1, epoch=2, train absolute_loss_objective <loss>=0.647677193582058\u001b[0m\n",
      "\u001b[34m[03/18/2023 18:04:22 INFO 140106430957376] #early_stopping_criteria_metric: host=algo-1, epoch=2, criteria=absolute_loss_objective, value=0.27909856885671613\u001b[0m\n",
      "\u001b[34m[03/18/2023 18:04:22 INFO 140106430957376] Epoch 2: Loss improved. Updating best model\u001b[0m\n",
      "\u001b[34m[03/18/2023 18:04:22 INFO 140106430957376] Saving model for epoch: 2\u001b[0m\n",
      "\u001b[34m[03/18/2023 18:04:22 INFO 140106430957376] Saved checkpoint to \"/tmp/tmpilnnl6cv/mx-mod-0000.params\"\u001b[0m\n",
      "\u001b[34m[03/18/2023 18:04:22 INFO 140106430957376] #progress_metric: host=algo-1, completed 60.0 % of epochs\u001b[0m\n",
      "\u001b[34m#metrics {\"StartTime\": 1679162662.1706097, \"EndTime\": 1679162662.5264163, \"Dimensions\": {\"Algorithm\": \"Linear Learner\", \"Host\": \"algo-1\", \"Operation\": \"training\", \"epoch\": 2, \"Meta\": \"training_data_iter\"}, \"Metrics\": {\"Total Records Seen\": {\"sum\": 325.0, \"count\": 1, \"min\": 325, \"max\": 325}, \"Total Batches Seen\": {\"sum\": 65.0, \"count\": 1, \"min\": 65, \"max\": 65}, \"Max Records Seen Between Resets\": {\"sum\": 80.0, \"count\": 1, \"min\": 80, \"max\": 80}, \"Max Batches Seen Between Resets\": {\"sum\": 16.0, \"count\": 1, \"min\": 16, \"max\": 16}, \"Reset Count\": {\"sum\": 5.0, \"count\": 1, \"min\": 5, \"max\": 5}, \"Number of Records Since Last Reset\": {\"sum\": 80.0, \"count\": 1, \"min\": 80, \"max\": 80}, \"Number of Batches Since Last Reset\": {\"sum\": 16.0, \"count\": 1, \"min\": 16, \"max\": 16}}}\u001b[0m\n",
      "\u001b[34m[03/18/2023 18:04:22 INFO 140106430957376] #throughput_metric: host=algo-1, train throughput=224.74938897004697 records/second\u001b[0m\n",
      "\u001b[34m[2023-03-18 18:04:22.898] [tensorio] [info] epoch_stats={\"data_pipeline\": \"/opt/ml/input/data/train\", \"epoch\": 10, \"duration\": 371, \"num_examples\": 16, \"num_bytes\": 3840}\u001b[0m\n",
      "\u001b[34m#metrics {\"StartTime\": 1679162662.8983152, \"EndTime\": 1679162662.8983977, \"Dimensions\": {\"Algorithm\": \"Linear Learner\", \"Host\": \"algo-1\", \"Operation\": \"training\", \"epoch\": 3, \"model\": 0}, \"Metrics\": {\"train_absolute_loss_objective\": {\"sum\": 0.6016715973615646, \"count\": 1, \"min\": 0.6016715973615646, \"max\": 0.6016715973615646}}}\u001b[0m\n",
      "\u001b[34m#metrics {\"StartTime\": 1679162662.8985336, \"EndTime\": 1679162662.8985507, \"Dimensions\": {\"Algorithm\": \"Linear Learner\", \"Host\": \"algo-1\", \"Operation\": \"training\", \"epoch\": 3, \"model\": 1}, \"Metrics\": {\"train_absolute_loss_objective\": {\"sum\": 0.5827130779623986, \"count\": 1, \"min\": 0.5827130779623986, \"max\": 0.5827130779623986}}}\u001b[0m\n",
      "\u001b[34m#metrics {\"StartTime\": 1679162662.8986344, \"EndTime\": 1679162662.8986478, \"Dimensions\": {\"Algorithm\": \"Linear Learner\", \"Host\": \"algo-1\", \"Operation\": \"training\", \"epoch\": 3, \"model\": 2}, \"Metrics\": {\"train_absolute_loss_objective\": {\"sum\": 0.5997440218925476, \"count\": 1, \"min\": 0.5997440218925476, \"max\": 0.5997440218925476}}}\u001b[0m\n",
      "\u001b[34m#metrics {\"StartTime\": 1679162662.8987067, \"EndTime\": 1679162662.8987193, \"Dimensions\": {\"Algorithm\": \"Linear Learner\", \"Host\": \"algo-1\", \"Operation\": \"training\", \"epoch\": 3, \"model\": 3}, \"Metrics\": {\"train_absolute_loss_objective\": {\"sum\": 0.5835262179374695, \"count\": 1, \"min\": 0.5835262179374695, \"max\": 0.5835262179374695}}}\u001b[0m\n",
      "\u001b[34m#metrics {\"StartTime\": 1679162662.8987591, \"EndTime\": 1679162662.8987694, \"Dimensions\": {\"Algorithm\": \"Linear Learner\", \"Host\": \"algo-1\", \"Operation\": \"training\", \"epoch\": 3, \"model\": 4}, \"Metrics\": {\"train_absolute_loss_objective\": {\"sum\": 0.2966768819838762, \"count\": 1, \"min\": 0.2966768819838762, \"max\": 0.2966768819838762}}}\u001b[0m\n",
      "\u001b[34m#metrics {\"StartTime\": 1679162662.8988183, \"EndTime\": 1679162662.8988302, \"Dimensions\": {\"Algorithm\": \"Linear Learner\", \"Host\": \"algo-1\", \"Operation\": \"training\", \"epoch\": 3, \"model\": 5}, \"Metrics\": {\"train_absolute_loss_objective\": {\"sum\": 0.2821477185934782, \"count\": 1, \"min\": 0.2821477185934782, \"max\": 0.2821477185934782}}}\u001b[0m\n",
      "\u001b[34m#metrics {\"StartTime\": 1679162662.8988812, \"EndTime\": 1679162662.8988917, \"Dimensions\": {\"Algorithm\": \"Linear Learner\", \"Host\": \"algo-1\", \"Operation\": \"training\", \"epoch\": 3, \"model\": 6}, \"Metrics\": {\"train_absolute_loss_objective\": {\"sum\": 0.3253569781780243, \"count\": 1, \"min\": 0.3253569781780243, \"max\": 0.3253569781780243}}}\u001b[0m\n",
      "\u001b[34m#metrics {\"StartTime\": 1679162662.8989289, \"EndTime\": 1679162662.898939, \"Dimensions\": {\"Algorithm\": \"Linear Learner\", \"Host\": \"algo-1\", \"Operation\": \"training\", \"epoch\": 3, \"model\": 7}, \"Metrics\": {\"train_absolute_loss_objective\": {\"sum\": 0.3565817251801491, \"count\": 1, \"min\": 0.3565817251801491, \"max\": 0.3565817251801491}}}\u001b[0m\n",
      "\u001b[34m#metrics {\"StartTime\": 1679162662.8989787, \"EndTime\": 1679162662.8989892, \"Dimensions\": {\"Algorithm\": \"Linear Learner\", \"Host\": \"algo-1\", \"Operation\": \"training\", \"epoch\": 3, \"model\": 8}, \"Metrics\": {\"train_absolute_loss_objective\": {\"sum\": 0.5583337217569351, \"count\": 1, \"min\": 0.5583337217569351, \"max\": 0.5583337217569351}}}\u001b[0m\n",
      "\u001b[34m#metrics {\"StartTime\": 1679162662.8990262, \"EndTime\": 1679162662.8990362, \"Dimensions\": {\"Algorithm\": \"Linear Learner\", \"Host\": \"algo-1\", \"Operation\": \"training\", \"epoch\": 3, \"model\": 9}, \"Metrics\": {\"train_absolute_loss_objective\": {\"sum\": 0.6078457415103913, \"count\": 1, \"min\": 0.6078457415103913, \"max\": 0.6078457415103913}}}\u001b[0m\n",
      "\u001b[34m#metrics {\"StartTime\": 1679162662.8990757, \"EndTime\": 1679162662.899086, \"Dimensions\": {\"Algorithm\": \"Linear Learner\", \"Host\": \"algo-1\", \"Operation\": \"training\", \"epoch\": 3, \"model\": 10}, \"Metrics\": {\"train_absolute_loss_objective\": {\"sum\": 0.6060272857546807, \"count\": 1, \"min\": 0.6060272857546807, \"max\": 0.6060272857546807}}}\u001b[0m\n",
      "\u001b[34m#metrics {\"StartTime\": 1679162662.8991237, \"EndTime\": 1679162662.899134, \"Dimensions\": {\"Algorithm\": \"Linear Learner\", \"Host\": \"algo-1\", \"Operation\": \"training\", \"epoch\": 3, \"model\": 11}, \"Metrics\": {\"train_absolute_loss_objective\": {\"sum\": 0.614807590842247, \"count\": 1, \"min\": 0.614807590842247, \"max\": 0.614807590842247}}}\u001b[0m\n",
      "\u001b[34m#metrics {\"StartTime\": 1679162662.8991728, \"EndTime\": 1679162662.899183, \"Dimensions\": {\"Algorithm\": \"Linear Learner\", \"Host\": \"algo-1\", \"Operation\": \"training\", \"epoch\": 3, \"model\": 12}, \"Metrics\": {\"train_absolute_loss_objective\": {\"sum\": 0.3049351416528225, \"count\": 1, \"min\": 0.3049351416528225, \"max\": 0.3049351416528225}}}\u001b[0m\n",
      "\u001b[34m#metrics {\"StartTime\": 1679162662.8992317, \"EndTime\": 1679162662.899243, \"Dimensions\": {\"Algorithm\": \"Linear Learner\", \"Host\": \"algo-1\", \"Operation\": \"training\", \"epoch\": 3, \"model\": 13}, \"Metrics\": {\"train_absolute_loss_objective\": {\"sum\": 0.33118580728769303, \"count\": 1, \"min\": 0.33118580728769303, \"max\": 0.33118580728769303}}}\u001b[0m\n",
      "\u001b[34m#metrics {\"StartTime\": 1679162662.8992863, \"EndTime\": 1679162662.8992968, \"Dimensions\": {\"Algorithm\": \"Linear Learner\", \"Host\": \"algo-1\", \"Operation\": \"training\", \"epoch\": 3, \"model\": 14}, \"Metrics\": {\"train_absolute_loss_objective\": {\"sum\": 0.30496974736452104, \"count\": 1, \"min\": 0.30496974736452104, \"max\": 0.30496974736452104}}}\u001b[0m\n",
      "\u001b[34m#metrics {\"StartTime\": 1679162662.899334, \"EndTime\": 1679162662.899344, \"Dimensions\": {\"Algorithm\": \"Linear Learner\", \"Host\": \"algo-1\", \"Operation\": \"training\", \"epoch\": 3, \"model\": 15}, \"Metrics\": {\"train_absolute_loss_objective\": {\"sum\": 0.28136318139731886, \"count\": 1, \"min\": 0.28136318139731886, \"max\": 0.28136318139731886}}}\u001b[0m\n",
      "\u001b[34m#metrics {\"StartTime\": 1679162662.8993924, \"EndTime\": 1679162662.8994036, \"Dimensions\": {\"Algorithm\": \"Linear Learner\", \"Host\": \"algo-1\", \"Operation\": \"training\", \"epoch\": 3, \"model\": 16}, \"Metrics\": {\"train_absolute_loss_objective\": {\"sum\": 0.639399416744709, \"count\": 1, \"min\": 0.639399416744709, \"max\": 0.639399416744709}}}\u001b[0m\n",
      "\u001b[34m#metrics {\"StartTime\": 1679162662.899442, \"EndTime\": 1679162662.899452, \"Dimensions\": {\"Algorithm\": \"Linear Learner\", \"Host\": \"algo-1\", \"Operation\": \"training\", \"epoch\": 3, \"model\": 17}, \"Metrics\": {\"train_absolute_loss_objective\": {\"sum\": 0.598742350935936, \"count\": 1, \"min\": 0.598742350935936, \"max\": 0.598742350935936}}}\u001b[0m\n",
      "\u001b[34m#metrics {\"StartTime\": 1679162662.8994884, \"EndTime\": 1679162662.8994985, \"Dimensions\": {\"Algorithm\": \"Linear Learner\", \"Host\": \"algo-1\", \"Operation\": \"training\", \"epoch\": 3, \"model\": 18}, \"Metrics\": {\"train_absolute_loss_objective\": {\"sum\": 0.6190027937293052, \"count\": 1, \"min\": 0.6190027937293052, \"max\": 0.6190027937293052}}}\u001b[0m\n",
      "\u001b[34m#metrics {\"StartTime\": 1679162662.8995383, \"EndTime\": 1679162662.8995485, \"Dimensions\": {\"Algorithm\": \"Linear Learner\", \"Host\": \"algo-1\", \"Operation\": \"training\", \"epoch\": 3, \"model\": 19}, \"Metrics\": {\"train_absolute_loss_objective\": {\"sum\": 0.6179883390665054, \"count\": 1, \"min\": 0.6179883390665054, \"max\": 0.6179883390665054}}}\u001b[0m\n",
      "\u001b[34m#metrics {\"StartTime\": 1679162662.8995848, \"EndTime\": 1679162662.8995948, \"Dimensions\": {\"Algorithm\": \"Linear Learner\", \"Host\": \"algo-1\", \"Operation\": \"training\", \"epoch\": 3, \"model\": 20}, \"Metrics\": {\"train_absolute_loss_objective\": {\"sum\": 0.45617253333330154, \"count\": 1, \"min\": 0.45617253333330154, \"max\": 0.45617253333330154}}}\u001b[0m\n",
      "\u001b[34m#metrics {\"StartTime\": 1679162662.8996427, \"EndTime\": 1679162662.8996537, \"Dimensions\": {\"Algorithm\": \"Linear Learner\", \"Host\": \"algo-1\", \"Operation\": \"training\", \"epoch\": 3, \"model\": 21}, \"Metrics\": {\"train_absolute_loss_objective\": {\"sum\": 0.4326929308474064, \"count\": 1, \"min\": 0.4326929308474064, \"max\": 0.4326929308474064}}}\u001b[0m\n",
      "\u001b[34m#metrics {\"StartTime\": 1679162662.899692, \"EndTime\": 1679162662.8997023, \"Dimensions\": {\"Algorithm\": \"Linear Learner\", \"Host\": \"algo-1\", \"Operation\": \"training\", \"epoch\": 3, \"model\": 22}, \"Metrics\": {\"train_absolute_loss_objective\": {\"sum\": 0.43745388388633727, \"count\": 1, \"min\": 0.43745388388633727, \"max\": 0.43745388388633727}}}\u001b[0m\n",
      "\u001b[34m#metrics {\"StartTime\": 1679162662.899751, \"EndTime\": 1679162662.899762, \"Dimensions\": {\"Algorithm\": \"Linear Learner\", \"Host\": \"algo-1\", \"Operation\": \"training\", \"epoch\": 3, \"model\": 23}, \"Metrics\": {\"train_absolute_loss_objective\": {\"sum\": 0.43213737159967425, \"count\": 1, \"min\": 0.43213737159967425, \"max\": 0.43213737159967425}}}\u001b[0m\n",
      "\u001b[34m#metrics {\"StartTime\": 1679162662.8998005, \"EndTime\": 1679162662.8998106, \"Dimensions\": {\"Algorithm\": \"Linear Learner\", \"Host\": \"algo-1\", \"Operation\": \"training\", \"epoch\": 3, \"model\": 24}, \"Metrics\": {\"train_absolute_loss_objective\": {\"sum\": 0.7620480790734291, \"count\": 1, \"min\": 0.7620480790734291, \"max\": 0.7620480790734291}}}\u001b[0m\n",
      "\u001b[34m#metrics {\"StartTime\": 1679162662.899858, \"EndTime\": 1679162662.899869, \"Dimensions\": {\"Algorithm\": \"Linear Learner\", \"Host\": \"algo-1\", \"Operation\": \"training\", \"epoch\": 3, \"model\": 25}, \"Metrics\": {\"train_absolute_loss_objective\": {\"sum\": 0.7597227051854134, \"count\": 1, \"min\": 0.7597227051854134, \"max\": 0.7597227051854134}}}\u001b[0m\n",
      "\u001b[34m#metrics {\"StartTime\": 1679162662.8999157, \"EndTime\": 1679162662.8999264, \"Dimensions\": {\"Algorithm\": \"Linear Learner\", \"Host\": \"algo-1\", \"Operation\": \"training\", \"epoch\": 3, \"model\": 26}, \"Metrics\": {\"train_absolute_loss_objective\": {\"sum\": 0.7600851207971573, \"count\": 1, \"min\": 0.7600851207971573, \"max\": 0.7600851207971573}}}\u001b[0m\n",
      "\u001b[34m#metrics {\"StartTime\": 1679162662.899964, \"EndTime\": 1679162662.8999743, \"Dimensions\": {\"Algorithm\": \"Linear Learner\", \"Host\": \"algo-1\", \"Operation\": \"training\", \"epoch\": 3, \"model\": 27}, \"Metrics\": {\"train_absolute_loss_objective\": {\"sum\": 0.7602268159389496, \"count\": 1, \"min\": 0.7602268159389496, \"max\": 0.7602268159389496}}}\u001b[0m\n",
      "\u001b[34m#metrics {\"StartTime\": 1679162662.9000218, \"EndTime\": 1679162662.9000328, \"Dimensions\": {\"Algorithm\": \"Linear Learner\", \"Host\": \"algo-1\", \"Operation\": \"training\", \"epoch\": 3, \"model\": 28}, \"Metrics\": {\"train_absolute_loss_objective\": {\"sum\": 0.8313390985131264, \"count\": 1, \"min\": 0.8313390985131264, \"max\": 0.8313390985131264}}}\u001b[0m\n",
      "\u001b[34m#metrics {\"StartTime\": 1679162662.9000788, \"EndTime\": 1679162662.9000978, \"Dimensions\": {\"Algorithm\": \"Linear Learner\", \"Host\": \"algo-1\", \"Operation\": \"training\", \"epoch\": 3, \"model\": 29}, \"Metrics\": {\"train_absolute_loss_objective\": {\"sum\": 0.8380907982587814, \"count\": 1, \"min\": 0.8380907982587814, \"max\": 0.8380907982587814}}}\u001b[0m\n",
      "\u001b[34m#metrics {\"StartTime\": 1679162662.9001393, \"EndTime\": 1679162662.9001536, \"Dimensions\": {\"Algorithm\": \"Linear Learner\", \"Host\": \"algo-1\", \"Operation\": \"training\", \"epoch\": 3, \"model\": 30}, \"Metrics\": {\"train_absolute_loss_objective\": {\"sum\": 0.8313283696770668, \"count\": 1, \"min\": 0.8313283696770668, \"max\": 0.8313283696770668}}}\u001b[0m\n",
      "\u001b[34m#metrics {\"StartTime\": 1679162662.9001987, \"EndTime\": 1679162662.900216, \"Dimensions\": {\"Algorithm\": \"Linear Learner\", \"Host\": \"algo-1\", \"Operation\": \"training\", \"epoch\": 3, \"model\": 31}, \"Metrics\": {\"train_absolute_loss_objective\": {\"sum\": 0.8373462617397308, \"count\": 1, \"min\": 0.8373462617397308, \"max\": 0.8373462617397308}}}\u001b[0m\n",
      "\u001b[34m[03/18/2023 18:04:22 INFO 140106430957376] #quality_metric: host=algo-1, epoch=3, train absolute_loss_objective <loss>=0.6016715973615646\u001b[0m\n",
      "\u001b[34m[03/18/2023 18:04:22 INFO 140106430957376] #early_stopping_criteria_metric: host=algo-1, epoch=3, criteria=absolute_loss_objective, value=0.28136318139731886\u001b[0m\n",
      "\u001b[34m[03/18/2023 18:04:22 INFO 140106430957376] Saving model for epoch: 3\u001b[0m\n",
      "\u001b[34m[03/18/2023 18:04:22 INFO 140106430957376] Saved checkpoint to \"/tmp/tmprqis5wvw/mx-mod-0000.params\"\u001b[0m\n",
      "\u001b[34m[03/18/2023 18:04:22 INFO 140106430957376] #progress_metric: host=algo-1, completed 80.0 % of epochs\u001b[0m\n",
      "\u001b[34m#metrics {\"StartTime\": 1679162662.5267308, \"EndTime\": 1679162662.9094598, \"Dimensions\": {\"Algorithm\": \"Linear Learner\", \"Host\": \"algo-1\", \"Operation\": \"training\", \"epoch\": 3, \"Meta\": \"training_data_iter\"}, \"Metrics\": {\"Total Records Seen\": {\"sum\": 405.0, \"count\": 1, \"min\": 405, \"max\": 405}, \"Total Batches Seen\": {\"sum\": 81.0, \"count\": 1, \"min\": 81, \"max\": 81}, \"Max Records Seen Between Resets\": {\"sum\": 80.0, \"count\": 1, \"min\": 80, \"max\": 80}, \"Max Batches Seen Between Resets\": {\"sum\": 16.0, \"count\": 1, \"min\": 16, \"max\": 16}, \"Reset Count\": {\"sum\": 6.0, \"count\": 1, \"min\": 6, \"max\": 6}, \"Number of Records Since Last Reset\": {\"sum\": 80.0, \"count\": 1, \"min\": 80, \"max\": 80}, \"Number of Batches Since Last Reset\": {\"sum\": 16.0, \"count\": 1, \"min\": 16, \"max\": 16}}}\u001b[0m\n",
      "\u001b[34m[03/18/2023 18:04:22 INFO 140106430957376] #throughput_metric: host=algo-1, train throughput=208.93691001021196 records/second\u001b[0m\n",
      "\u001b[34m[2023-03-18 18:04:23.252] [tensorio] [info] epoch_stats={\"data_pipeline\": \"/opt/ml/input/data/train\", \"epoch\": 12, \"duration\": 342, \"num_examples\": 16, \"num_bytes\": 3840}\u001b[0m\n",
      "\u001b[34m#metrics {\"StartTime\": 1679162663.2523868, \"EndTime\": 1679162663.2524798, \"Dimensions\": {\"Algorithm\": \"Linear Learner\", \"Host\": \"algo-1\", \"Operation\": \"training\", \"epoch\": 4, \"model\": 0}, \"Metrics\": {\"train_absolute_loss_objective\": {\"sum\": 0.5568882524967194, \"count\": 1, \"min\": 0.5568882524967194, \"max\": 0.5568882524967194}}}\u001b[0m\n",
      "\u001b[34m#metrics {\"StartTime\": 1679162663.2525916, \"EndTime\": 1679162663.2526143, \"Dimensions\": {\"Algorithm\": \"Linear Learner\", \"Host\": \"algo-1\", \"Operation\": \"training\", \"epoch\": 4, \"model\": 1}, \"Metrics\": {\"train_absolute_loss_objective\": {\"sum\": 0.5358307808637619, \"count\": 1, \"min\": 0.5358307808637619, \"max\": 0.5358307808637619}}}\u001b[0m\n",
      "\u001b[34m#metrics {\"StartTime\": 1679162663.2526734, \"EndTime\": 1679162663.2526894, \"Dimensions\": {\"Algorithm\": \"Linear Learner\", \"Host\": \"algo-1\", \"Operation\": \"training\", \"epoch\": 4, \"model\": 2}, \"Metrics\": {\"train_absolute_loss_objective\": {\"sum\": 0.5550281330943108, \"count\": 1, \"min\": 0.5550281330943108, \"max\": 0.5550281330943108}}}\u001b[0m\n",
      "\u001b[34m#metrics {\"StartTime\": 1679162663.2527385, \"EndTime\": 1679162663.252754, \"Dimensions\": {\"Algorithm\": \"Linear Learner\", \"Host\": \"algo-1\", \"Operation\": \"training\", \"epoch\": 4, \"model\": 3}, \"Metrics\": {\"train_absolute_loss_objective\": {\"sum\": 0.5366154506802558, \"count\": 1, \"min\": 0.5366154506802558, \"max\": 0.5366154506802558}}}\u001b[0m\n",
      "\u001b[34m#metrics {\"StartTime\": 1679162663.2528, \"EndTime\": 1679162663.2528152, \"Dimensions\": {\"Algorithm\": \"Linear Learner\", \"Host\": \"algo-1\", \"Operation\": \"training\", \"epoch\": 4, \"model\": 4}, \"Metrics\": {\"train_absolute_loss_objective\": {\"sum\": 0.3179510198533535, \"count\": 1, \"min\": 0.3179510198533535, \"max\": 0.3179510198533535}}}\u001b[0m\n",
      "\u001b[34m#metrics {\"StartTime\": 1679162663.252881, \"EndTime\": 1679162663.2529006, \"Dimensions\": {\"Algorithm\": \"Linear Learner\", \"Host\": \"algo-1\", \"Operation\": \"training\", \"epoch\": 4, \"model\": 5}, \"Metrics\": {\"train_absolute_loss_objective\": {\"sum\": 0.3321404531598091, \"count\": 1, \"min\": 0.3321404531598091, \"max\": 0.3321404531598091}}}\u001b[0m\n",
      "\u001b[34m#metrics {\"StartTime\": 1679162663.252958, \"EndTime\": 1679162663.2529757, \"Dimensions\": {\"Algorithm\": \"Linear Learner\", \"Host\": \"algo-1\", \"Operation\": \"training\", \"epoch\": 4, \"model\": 6}, \"Metrics\": {\"train_absolute_loss_objective\": {\"sum\": 0.3053782660514116, \"count\": 1, \"min\": 0.3053782660514116, \"max\": 0.3053782660514116}}}\u001b[0m\n",
      "\u001b[34m#metrics {\"StartTime\": 1679162663.2530363, \"EndTime\": 1679162663.2530503, \"Dimensions\": {\"Algorithm\": \"Linear Learner\", \"Host\": \"algo-1\", \"Operation\": \"training\", \"epoch\": 4, \"model\": 7}, \"Metrics\": {\"train_absolute_loss_objective\": {\"sum\": 0.32492290288209913, \"count\": 1, \"min\": 0.32492290288209913, \"max\": 0.32492290288209913}}}\u001b[0m\n",
      "\u001b[34m#metrics {\"StartTime\": 1679162663.2531068, \"EndTime\": 1679162663.2531235, \"Dimensions\": {\"Algorithm\": \"Linear Learner\", \"Host\": \"algo-1\", \"Operation\": \"training\", \"epoch\": 4, \"model\": 8}, \"Metrics\": {\"train_absolute_loss_objective\": {\"sum\": 0.5139915570616722, \"count\": 1, \"min\": 0.5139915570616722, \"max\": 0.5139915570616722}}}\u001b[0m\n",
      "\u001b[34m#metrics {\"StartTime\": 1679162663.2531738, \"EndTime\": 1679162663.2531886, \"Dimensions\": {\"Algorithm\": \"Linear Learner\", \"Host\": \"algo-1\", \"Operation\": \"training\", \"epoch\": 4, \"model\": 9}, \"Metrics\": {\"train_absolute_loss_objective\": {\"sum\": 0.5602894574403763, \"count\": 1, \"min\": 0.5602894574403763, \"max\": 0.5602894574403763}}}\u001b[0m\n",
      "\u001b[34m#metrics {\"StartTime\": 1679162663.2532427, \"EndTime\": 1679162663.2532587, \"Dimensions\": {\"Algorithm\": \"Linear Learner\", \"Host\": \"algo-1\", \"Operation\": \"training\", \"epoch\": 4, \"model\": 10}, \"Metrics\": {\"train_absolute_loss_objective\": {\"sum\": 0.5611707225441933, \"count\": 1, \"min\": 0.5611707225441933, \"max\": 0.5611707225441933}}}\u001b[0m\n",
      "\u001b[34m#metrics {\"StartTime\": 1679162663.2533271, \"EndTime\": 1679162663.2533457, \"Dimensions\": {\"Algorithm\": \"Linear Learner\", \"Host\": \"algo-1\", \"Operation\": \"training\", \"epoch\": 4, \"model\": 11}, \"Metrics\": {\"train_absolute_loss_objective\": {\"sum\": 0.567064368724823, \"count\": 1, \"min\": 0.567064368724823, \"max\": 0.567064368724823}}}\u001b[0m\n",
      "\u001b[34m#metrics {\"StartTime\": 1679162663.2534068, \"EndTime\": 1679162663.2534251, \"Dimensions\": {\"Algorithm\": \"Linear Learner\", \"Host\": \"algo-1\", \"Operation\": \"training\", \"epoch\": 4, \"model\": 12}, \"Metrics\": {\"train_absolute_loss_objective\": {\"sum\": 0.32120591402053833, \"count\": 1, \"min\": 0.32120591402053833, \"max\": 0.32120591402053833}}}\u001b[0m\n",
      "\u001b[34m#metrics {\"StartTime\": 1679162663.2534816, \"EndTime\": 1679162663.2535, \"Dimensions\": {\"Algorithm\": \"Linear Learner\", \"Host\": \"algo-1\", \"Operation\": \"training\", \"epoch\": 4, \"model\": 13}, \"Metrics\": {\"train_absolute_loss_objective\": {\"sum\": 0.29139483273029326, \"count\": 1, \"min\": 0.29139483273029326, \"max\": 0.29139483273029326}}}\u001b[0m\n",
      "\u001b[34m#metrics {\"StartTime\": 1679162663.2535558, \"EndTime\": 1679162663.2535727, \"Dimensions\": {\"Algorithm\": \"Linear Learner\", \"Host\": \"algo-1\", \"Operation\": \"training\", \"epoch\": 4, \"model\": 14}, \"Metrics\": {\"train_absolute_loss_objective\": {\"sum\": 0.32177199646830557, \"count\": 1, \"min\": 0.32177199646830557, \"max\": 0.32177199646830557}}}\u001b[0m\n",
      "\u001b[34m#metrics {\"StartTime\": 1679162663.2536247, \"EndTime\": 1679162663.25364, \"Dimensions\": {\"Algorithm\": \"Linear Learner\", \"Host\": \"algo-1\", \"Operation\": \"training\", \"epoch\": 4, \"model\": 15}, \"Metrics\": {\"train_absolute_loss_objective\": {\"sum\": 0.2858659565448761, \"count\": 1, \"min\": 0.2858659565448761, \"max\": 0.2858659565448761}}}\u001b[0m\n",
      "\u001b[34m#metrics {\"StartTime\": 1679162663.2536888, \"EndTime\": 1679162663.2537055, \"Dimensions\": {\"Algorithm\": \"Linear Learner\", \"Host\": \"algo-1\", \"Operation\": \"training\", \"epoch\": 4, \"model\": 16}, \"Metrics\": {\"train_absolute_loss_objective\": {\"sum\": 0.6021672651171684, \"count\": 1, \"min\": 0.6021672651171684, \"max\": 0.6021672651171684}}}\u001b[0m\n",
      "\u001b[34m#metrics {\"StartTime\": 1679162663.2537618, \"EndTime\": 1679162663.2538059, \"Dimensions\": {\"Algorithm\": \"Linear Learner\", \"Host\": \"algo-1\", \"Operation\": \"training\", \"epoch\": 4, \"model\": 17}, \"Metrics\": {\"train_absolute_loss_objective\": {\"sum\": 0.5615426152944565, \"count\": 1, \"min\": 0.5615426152944565, \"max\": 0.5615426152944565}}}\u001b[0m\n",
      "\u001b[34m#metrics {\"StartTime\": 1679162663.253868, \"EndTime\": 1679162663.2538862, \"Dimensions\": {\"Algorithm\": \"Linear Learner\", \"Host\": \"algo-1\", \"Operation\": \"training\", \"epoch\": 4, \"model\": 18}, \"Metrics\": {\"train_absolute_loss_objective\": {\"sum\": 0.5822077035903931, \"count\": 1, \"min\": 0.5822077035903931, \"max\": 0.5822077035903931}}}\u001b[0m\n",
      "\u001b[34m#metrics {\"StartTime\": 1679162663.2539427, \"EndTime\": 1679162663.2539592, \"Dimensions\": {\"Algorithm\": \"Linear Learner\", \"Host\": \"algo-1\", \"Operation\": \"training\", \"epoch\": 4, \"model\": 19}, \"Metrics\": {\"train_absolute_loss_objective\": {\"sum\": 0.5792506292462349, \"count\": 1, \"min\": 0.5792506292462349, \"max\": 0.5792506292462349}}}\u001b[0m\n",
      "\u001b[34m#metrics {\"StartTime\": 1679162663.2540095, \"EndTime\": 1679162663.2540274, \"Dimensions\": {\"Algorithm\": \"Linear Learner\", \"Host\": \"algo-1\", \"Operation\": \"training\", \"epoch\": 4, \"model\": 20}, \"Metrics\": {\"train_absolute_loss_objective\": {\"sum\": 0.3916158601641655, \"count\": 1, \"min\": 0.3916158601641655, \"max\": 0.3916158601641655}}}\u001b[0m\n",
      "\u001b[34m#metrics {\"StartTime\": 1679162663.2540786, \"EndTime\": 1679162663.2540946, \"Dimensions\": {\"Algorithm\": \"Linear Learner\", \"Host\": \"algo-1\", \"Operation\": \"training\", \"epoch\": 4, \"model\": 21}, \"Metrics\": {\"train_absolute_loss_objective\": {\"sum\": 0.4066252239048481, \"count\": 1, \"min\": 0.4066252239048481, \"max\": 0.4066252239048481}}}\u001b[0m\n",
      "\u001b[34m#metrics {\"StartTime\": 1679162663.254149, \"EndTime\": 1679162663.2541635, \"Dimensions\": {\"Algorithm\": \"Linear Learner\", \"Host\": \"algo-1\", \"Operation\": \"training\", \"epoch\": 4, \"model\": 22}, \"Metrics\": {\"train_absolute_loss_objective\": {\"sum\": 0.4236639693379402, \"count\": 1, \"min\": 0.4236639693379402, \"max\": 0.4236639693379402}}}\u001b[0m\n",
      "\u001b[34m#metrics {\"StartTime\": 1679162663.2542248, \"EndTime\": 1679162663.254242, \"Dimensions\": {\"Algorithm\": \"Linear Learner\", \"Host\": \"algo-1\", \"Operation\": \"training\", \"epoch\": 4, \"model\": 23}, \"Metrics\": {\"train_absolute_loss_objective\": {\"sum\": 0.4071294225752354, \"count\": 1, \"min\": 0.4071294225752354, \"max\": 0.4071294225752354}}}\u001b[0m\n",
      "\u001b[34m#metrics {\"StartTime\": 1679162663.254304, \"EndTime\": 1679162663.2543197, \"Dimensions\": {\"Algorithm\": \"Linear Learner\", \"Host\": \"algo-1\", \"Operation\": \"training\", \"epoch\": 4, \"model\": 24}, \"Metrics\": {\"train_absolute_loss_objective\": {\"sum\": 0.7591588586568833, \"count\": 1, \"min\": 0.7591588586568833, \"max\": 0.7591588586568833}}}\u001b[0m\n",
      "\u001b[34m#metrics {\"StartTime\": 1679162663.2544188, \"EndTime\": 1679162663.2544363, \"Dimensions\": {\"Algorithm\": \"Linear Learner\", \"Host\": \"algo-1\", \"Operation\": \"training\", \"epoch\": 4, \"model\": 25}, \"Metrics\": {\"train_absolute_loss_objective\": {\"sum\": 0.7596834495663642, \"count\": 1, \"min\": 0.7596834495663642, \"max\": 0.7596834495663642}}}\u001b[0m\n",
      "\u001b[34m#metrics {\"StartTime\": 1679162663.254497, \"EndTime\": 1679162663.2545137, \"Dimensions\": {\"Algorithm\": \"Linear Learner\", \"Host\": \"algo-1\", \"Operation\": \"training\", \"epoch\": 4, \"model\": 26}, \"Metrics\": {\"train_absolute_loss_objective\": {\"sum\": 0.7598573803901673, \"count\": 1, \"min\": 0.7598573803901673, \"max\": 0.7598573803901673}}}\u001b[0m\n",
      "\u001b[34m#metrics {\"StartTime\": 1679162663.2545795, \"EndTime\": 1679162663.2545967, \"Dimensions\": {\"Algorithm\": \"Linear Learner\", \"Host\": \"algo-1\", \"Operation\": \"training\", \"epoch\": 4, \"model\": 27}, \"Metrics\": {\"train_absolute_loss_objective\": {\"sum\": 0.7603091463446617, \"count\": 1, \"min\": 0.7603091463446617, \"max\": 0.7603091463446617}}}\u001b[0m\n",
      "\u001b[34m#metrics {\"StartTime\": 1679162663.2546628, \"EndTime\": 1679162663.25468, \"Dimensions\": {\"Algorithm\": \"Linear Learner\", \"Host\": \"algo-1\", \"Operation\": \"training\", \"epoch\": 4, \"model\": 28}, \"Metrics\": {\"train_absolute_loss_objective\": {\"sum\": 0.8532022401690483, \"count\": 1, \"min\": 0.8532022401690483, \"max\": 0.8532022401690483}}}\u001b[0m\n",
      "\u001b[34m#metrics {\"StartTime\": 1679162663.254732, \"EndTime\": 1679162663.254743, \"Dimensions\": {\"Algorithm\": \"Linear Learner\", \"Host\": \"algo-1\", \"Operation\": \"training\", \"epoch\": 4, \"model\": 29}, \"Metrics\": {\"train_absolute_loss_objective\": {\"sum\": 0.8030502140522003, \"count\": 1, \"min\": 0.8030502140522003, \"max\": 0.8030502140522003}}}\u001b[0m\n",
      "\u001b[34m#metrics {\"StartTime\": 1679162663.2547708, \"EndTime\": 1679162663.2547786, \"Dimensions\": {\"Algorithm\": \"Linear Learner\", \"Host\": \"algo-1\", \"Operation\": \"training\", \"epoch\": 4, \"model\": 30}, \"Metrics\": {\"train_absolute_loss_objective\": {\"sum\": 0.8529435932636261, \"count\": 1, \"min\": 0.8529435932636261, \"max\": 0.8529435932636261}}}\u001b[0m\n",
      "\u001b[34m#metrics {\"StartTime\": 1679162663.2548296, \"EndTime\": 1679162663.2548473, \"Dimensions\": {\"Algorithm\": \"Linear Learner\", \"Host\": \"algo-1\", \"Operation\": \"training\", \"epoch\": 4, \"model\": 31}, \"Metrics\": {\"train_absolute_loss_objective\": {\"sum\": 0.8031588494777679, \"count\": 1, \"min\": 0.8031588494777679, \"max\": 0.8031588494777679}}}\u001b[0m\n",
      "\u001b[34m[03/18/2023 18:04:23 INFO 140106430957376] #quality_metric: host=algo-1, epoch=4, train absolute_loss_objective <loss>=0.5568882524967194\u001b[0m\n",
      "\u001b[34m[03/18/2023 18:04:23 INFO 140106430957376] #early_stopping_criteria_metric: host=algo-1, epoch=4, criteria=absolute_loss_objective, value=0.2858659565448761\u001b[0m\n",
      "\u001b[34m[03/18/2023 18:04:23 INFO 140106430957376] Saving model for epoch: 4\u001b[0m\n",
      "\u001b[34m[03/18/2023 18:04:23 INFO 140106430957376] Saved checkpoint to \"/tmp/tmpqz3my0k6/mx-mod-0000.params\"\u001b[0m\n",
      "\u001b[34m[03/18/2023 18:04:23 INFO 140106430957376] #progress_metric: host=algo-1, completed 100.0 % of epochs\u001b[0m\n",
      "\u001b[34m#metrics {\"StartTime\": 1679162662.90981, \"EndTime\": 1679162663.2628534, \"Dimensions\": {\"Algorithm\": \"Linear Learner\", \"Host\": \"algo-1\", \"Operation\": \"training\", \"epoch\": 4, \"Meta\": \"training_data_iter\"}, \"Metrics\": {\"Total Records Seen\": {\"sum\": 485.0, \"count\": 1, \"min\": 485, \"max\": 485}, \"Total Batches Seen\": {\"sum\": 97.0, \"count\": 1, \"min\": 97, \"max\": 97}, \"Max Records Seen Between Resets\": {\"sum\": 80.0, \"count\": 1, \"min\": 80, \"max\": 80}, \"Max Batches Seen Between Resets\": {\"sum\": 16.0, \"count\": 1, \"min\": 16, \"max\": 16}, \"Reset Count\": {\"sum\": 7.0, \"count\": 1, \"min\": 7, \"max\": 7}, \"Number of Records Since Last Reset\": {\"sum\": 80.0, \"count\": 1, \"min\": 80, \"max\": 80}, \"Number of Batches Since Last Reset\": {\"sum\": 16.0, \"count\": 1, \"min\": 16, \"max\": 16}}}\u001b[0m\n",
      "\u001b[34m[03/18/2023 18:04:23 INFO 140106430957376] #throughput_metric: host=algo-1, train throughput=226.47873102267795 records/second\u001b[0m\n",
      "\u001b[34m[03/18/2023 18:04:23 WARNING 140106430957376] wait_for_all_workers will not sync workers since the kv store is not running distributed\u001b[0m\n",
      "\u001b[34m[03/18/2023 18:04:23 WARNING 140106430957376] wait_for_all_workers will not sync workers since the kv store is not running distributed\u001b[0m\n",
      "\u001b[34m[2023-03-18 18:04:23.264] [tensorio] [info] epoch_stats={\"data_pipeline\": \"/opt/ml/input/data/train\", \"epoch\": 14, \"duration\": 0, \"num_examples\": 1, \"num_bytes\": 240}\u001b[0m\n",
      "\u001b[34m[2023-03-18 18:04:23.294] [tensorio] [info] epoch_stats={\"data_pipeline\": \"/opt/ml/input/data/train\", \"epoch\": 16, \"duration\": 27, \"num_examples\": 16, \"num_bytes\": 3840}\u001b[0m\n",
      "\u001b[34m[03/18/2023 18:04:23 INFO 140106430957376] #train_score (algo-1) : ('absolute_loss_objective', 1.2741489291191102)\u001b[0m\n",
      "\u001b[34m[03/18/2023 18:04:23 INFO 140106430957376] #train_score (algo-1) : ('mse', 2.2656470641493796)\u001b[0m\n",
      "\u001b[34m[03/18/2023 18:04:23 INFO 140106430957376] #train_score (algo-1) : ('absolute_loss', 1.2741489291191102)\u001b[0m\n",
      "\u001b[34m[03/18/2023 18:04:23 INFO 140106430957376] #train_score (algo-1) : ('rmse', 1.5052066516426839)\u001b[0m\n",
      "\u001b[34m[03/18/2023 18:04:23 INFO 140106430957376] #train_score (algo-1) : ('r2', 0.8858908627219769)\u001b[0m\n",
      "\u001b[34m[03/18/2023 18:04:23 INFO 140106430957376] #train_score (algo-1) : ('mae', 1.2741489291191102)\u001b[0m\n",
      "\u001b[34m[03/18/2023 18:04:23 INFO 140106430957376] #quality_metric: host=algo-1, train absolute_loss_objective <loss>=1.2741489291191102\u001b[0m\n",
      "\u001b[34m[03/18/2023 18:04:23 INFO 140106430957376] #quality_metric: host=algo-1, train mse <loss>=2.2656470641493796\u001b[0m\n",
      "\u001b[34m[03/18/2023 18:04:23 INFO 140106430957376] #quality_metric: host=algo-1, train absolute_loss <loss>=1.2741489291191102\u001b[0m\n",
      "\u001b[34m[03/18/2023 18:04:23 INFO 140106430957376] #quality_metric: host=algo-1, train rmse <loss>=1.5052066516426839\u001b[0m\n",
      "\u001b[34m[03/18/2023 18:04:23 INFO 140106430957376] #quality_metric: host=algo-1, train r2 <loss>=0.8858908627219769\u001b[0m\n",
      "\u001b[34m[03/18/2023 18:04:23 INFO 140106430957376] #quality_metric: host=algo-1, train mae <loss>=1.2741489291191102\u001b[0m\n",
      "\u001b[34m[03/18/2023 18:04:23 INFO 140106430957376] Best model found for hyperparameters: {\"optimizer\": \"adam\", \"learning_rate\": 0.1, \"wd\": 0.01, \"l1\": 0.0, \"lr_scheduler_step\": 10, \"lr_scheduler_factor\": 0.99, \"lr_scheduler_minimum_lr\": 1e-05}\u001b[0m\n",
      "\u001b[34m[03/18/2023 18:04:23 INFO 140106430957376] Saved checkpoint to \"/tmp/tmp0jncktf7/mx-mod-0000.params\"\u001b[0m\n",
      "\u001b[34m[03/18/2023 18:04:23 INFO 140106430957376] Test data is not provided.\u001b[0m\n",
      "\u001b[34m#metrics {\"StartTime\": 1679162661.166042, \"EndTime\": 1679162663.3017364, \"Dimensions\": {\"Algorithm\": \"Linear Learner\", \"Host\": \"algo-1\", \"Operation\": \"training\"}, \"Metrics\": {\"initialize.time\": {\"sum\": 270.8470821380615, \"count\": 1, \"min\": 270.8470821380615, \"max\": 270.8470821380615}, \"epochs\": {\"sum\": 5.0, \"count\": 1, \"min\": 5, \"max\": 5}, \"check_early_stopping.time\": {\"sum\": 3.8902759552001953, \"count\": 5, \"min\": 0.22172927856445312, \"max\": 1.2159347534179688}, \"update.time\": {\"sum\": 1807.5735569000244, \"count\": 5, \"min\": 350.1107692718506, \"max\": 379.7647953033447}, \"finalize.time\": {\"sum\": 33.33616256713867, \"count\": 1, \"min\": 33.33616256713867, \"max\": 33.33616256713867}, \"setuptime\": {\"sum\": 2.609729766845703, \"count\": 1, \"min\": 2.609729766845703, \"max\": 2.609729766845703}, \"totaltime\": {\"sum\": 2260.5197429656982, \"count\": 1, \"min\": 2260.5197429656982, \"max\": 2260.5197429656982}}}\u001b[0m\n",
      "\n",
      "2023-03-18 18:04:43 Uploading - Uploading generated training model\n",
      "2023-03-18 18:04:43 Completed - Training job completed\n",
      "Training seconds: 142\n",
      "Billable seconds: 142\n"
     ]
    }
   ],
   "source": [
    "# Create estimator\n",
    "linear = sagemaker.estimator.Estimator(container,\n",
    "                                       role, \n",
    "                                       instance_count = 1, \n",
    "                                       instance_type = 'ml.m4.xlarge',\n",
    "                                       output_path = output_location,\n",
    "                                       sagemaker_session = sagemaker_session)\n",
    "\n",
    "# Set hyperparameters\n",
    "linear.set_hyperparameters(feature_dim = 1,\n",
    "                           predictor_type = 'regressor',\n",
    "                           mini_batch_size = 5,\n",
    "                           epochs = 5,\n",
    "                           num_models = 32, # train 32 models and pick the best one\n",
    "                           loss = 'absolute_loss')\n",
    "\n",
    "# Train the linear learner regression model\n",
    "linear.fit({'train': s3_train_data})"
   ]
  },
  {
   "cell_type": "markdown",
   "id": "c7023232-fa85-4ea6-8411-0bb3d98c91fc",
   "metadata": {
    "tags": []
   },
   "source": [
    "# 5. Deploy and test the trained model"
   ]
  },
  {
   "cell_type": "code",
   "execution_count": 17,
   "id": "0194e883-169d-4d41-a7b7-c207ef7f9f77",
   "metadata": {
    "tags": []
   },
   "outputs": [
    {
     "name": "stderr",
     "output_type": "stream",
     "text": [
      "INFO:sagemaker:Creating model with name: linear-learner-2023-03-18-18-06-23-331\n",
      "INFO:sagemaker:Creating endpoint-config with name linear-learner-2023-03-18-18-06-23-331\n",
      "INFO:sagemaker:Creating endpoint with name linear-learner-2023-03-18-18-06-23-331\n"
     ]
    },
    {
     "name": "stdout",
     "output_type": "stream",
     "text": [
      "---------!"
     ]
    }
   ],
   "source": [
    "# Deploy linear learner regression model to a sagemaker endpoint\n",
    "\n",
    "linear_regressor = linear.deploy(initial_instance_count = 1,\n",
    "                                 instance_type = 'ml.m4.xlarge',\n",
    "                                 serializer = CSVSerializer(),\n",
    "                                 deserializer = JSONDeserializer())\n"
   ]
  },
  {
   "cell_type": "code",
   "execution_count": 18,
   "id": "630714f3-a0fb-4899-92ce-80001df9006a",
   "metadata": {
    "tags": []
   },
   "outputs": [
    {
     "data": {
      "text/plain": [
       "{'predictions': [{'score': 17.120885848999023},\n",
       "  {'score': 17.784923553466797},\n",
       "  {'score': 31.313318252563477},\n",
       "  {'score': 27.850990295410156},\n",
       "  {'score': 21.470460891723633},\n",
       "  {'score': 27.05475616455078},\n",
       "  {'score': 21.788318634033203},\n",
       "  {'score': 25.635705947875977},\n",
       "  {'score': 18.62554168701172},\n",
       "  {'score': 21.59309196472168},\n",
       "  {'score': 23.473270416259766},\n",
       "  {'score': 34.21075439453125},\n",
       "  {'score': 19.48073387145996},\n",
       "  {'score': 25.545116424560547},\n",
       "  {'score': 25.402488708496094},\n",
       "  {'score': 22.102310180664062},\n",
       "  {'score': 15.857717514038086},\n",
       "  {'score': 17.947437286376953},\n",
       "  {'score': 28.882204055786133},\n",
       "  {'score': 19.047576904296875}]}"
      ]
     },
     "execution_count": 18,
     "metadata": {},
     "output_type": "execute_result"
    }
   ],
   "source": [
    "# Run the test data through the prediction endpoint\n",
    "result = linear_regressor.predict(X_test)\n",
    "result  # results are in Json format"
   ]
  },
  {
   "cell_type": "code",
   "execution_count": 19,
   "id": "8e14fe25-4efa-4bff-be90-9aea658847a2",
   "metadata": {
    "tags": []
   },
   "outputs": [
    {
     "data": {
      "text/plain": [
       "(20,)"
      ]
     },
     "execution_count": 19,
     "metadata": {},
     "output_type": "execute_result"
    }
   ],
   "source": [
    "# Create array of scores from predictions json\n",
    "# Each score value corresponds to a value for X_test a the same index\n",
    "y_predicted = np.array([r['score'] for r in result['predictions']])\n",
    "y_predicted.shape"
   ]
  },
  {
   "cell_type": "code",
   "execution_count": 20,
   "id": "03d97387-b005-4ebc-bb60-82abcf16769f",
   "metadata": {
    "tags": []
   },
   "outputs": [
    {
     "data": {
      "image/png": "[encoded data removed]",
      "text/plain": [
       "<Figure size 1000x600 with 1 Axes>"
      ]
     },
     "metadata": {},
     "output_type": "display_data"
    }
   ],
   "source": [
    "# Visualize the results on scatterplot\n",
    "# blue dots = actual values from the test data (X = x_test values & y = y_test values)\n",
    "# red line = trend line resulting from predicted values (X = x_test values & y = y_predicted values)\n",
    "plt.figure(figsize = (10, 6))\n",
    "plt.scatter(X_test, y_test, color = 'blue')\n",
    "plt.plot(X_test, y_predicted, color = 'red')\n",
    "plt.xlabel('Horse Power')\n",
    "plt.ylabel('Fuel Economy (MPG)')\n",
    "plt.title('Horse Power vs. Fuel Economy (MPG)')\n",
    "plt.grid()\n",
    "plt.show()"
   ]
  },
  {
   "cell_type": "code",
   "execution_count": 21,
   "id": "d03fdda7-ee6d-4785-b47c-14fca16859e9",
   "metadata": {
    "tags": []
   },
   "outputs": [
    {
     "data": {
      "text/plain": [
       "0.940432089801348"
      ]
     },
     "execution_count": 21,
     "metadata": {},
     "output_type": "execute_result"
    }
   ],
   "source": [
    "# Calculate R2 Score\n",
    "# R2 is a measure of the goodness of fit of a model. An R2 of 1 indicates that the regression predictions perfectly fit the data.\n",
    "r2 = r2_score(y_test, y_predicted)\n",
    "r2"
   ]
  },
  {
   "cell_type": "markdown",
   "id": "efc798e4-5aeb-4745-b1f4-5a96e50e39d1",
   "metadata": {},
   "source": [
    "# 6. Cleanup"
   ]
  },
  {
   "cell_type": "code",
   "execution_count": 22,
   "id": "b4242aa1-8057-4ff1-a049-0dde212cdb67",
   "metadata": {
    "tags": []
   },
   "outputs": [
    {
     "name": "stderr",
     "output_type": "stream",
     "text": [
      "INFO:sagemaker:Deleting endpoint configuration with name: linear-learner-2023-03-18-18-06-23-331\n",
      "INFO:sagemaker:Deleting endpoint with name: linear-learner-2023-03-18-18-06-23-331\n"
     ]
    }
   ],
   "source": [
    "# Delete the SageMaker endpoint\n",
    "linear_regressor.delete_endpoint()"
   ]
  },
  {
   "cell_type": "code",
   "execution_count": null,
   "id": "6a922235-b129-4df1-9650-f53981b07b93",
   "metadata": {},
   "outputs": [],
   "source": []
  }
 ],
 "metadata": {
  "availableInstances": [
   {
    "_defaultOrder": 0,
    "_isFastLaunch": true,
    "category": "General purpose",
    "gpuNum": 0,
    "memoryGiB": 4,
    "name": "ml.t3.medium",
    "vcpuNum": 2
   },
   {
    "_defaultOrder": 1,
    "_isFastLaunch": false,
    "category": "General purpose",
    "gpuNum": 0,
    "memoryGiB": 8,
    "name": "ml.t3.large",
    "vcpuNum": 2
   },
   {
    "_defaultOrder": 2,
    "_isFastLaunch": false,
    "category": "General purpose",
    "gpuNum": 0,
    "memoryGiB": 16,
    "name": "ml.t3.xlarge",
    "vcpuNum": 4
   },
   {
    "_defaultOrder": 3,
    "_isFastLaunch": false,
    "category": "General purpose",
    "gpuNum": 0,
    "memoryGiB": 32,
    "name": "ml.t3.2xlarge",
    "vcpuNum": 8
   },
   {
    "_defaultOrder": 4,
    "_isFastLaunch": true,
    "category": "General purpose",
    "gpuNum": 0,
    "memoryGiB": 8,
    "name": "ml.m5.large",
    "vcpuNum": 2
   },
   {
    "_defaultOrder": 5,
    "_isFastLaunch": false,
    "category": "General purpose",
    "gpuNum": 0,
    "memoryGiB": 16,
    "name": "ml.m5.xlarge",
    "vcpuNum": 4
   },
   {
    "_defaultOrder": 6,
    "_isFastLaunch": false,
    "category": "General purpose",
    "gpuNum": 0,
    "memoryGiB": 32,
    "name": "ml.m5.2xlarge",
    "vcpuNum": 8
   },
   {
    "_defaultOrder": 7,
    "_isFastLaunch": false,
    "category": "General purpose",
    "gpuNum": 0,
    "memoryGiB": 64,
    "name": "ml.m5.4xlarge",
    "vcpuNum": 16
   },
   {
    "_defaultOrder": 8,
    "_isFastLaunch": false,
    "category": "General purpose",
    "gpuNum": 0,
    "memoryGiB": 128,
    "name": "ml.m5.8xlarge",
    "vcpuNum": 32
   },
   {
    "_defaultOrder": 9,
    "_isFastLaunch": false,
    "category": "General purpose",
    "gpuNum": 0,
    "memoryGiB": 192,
    "name": "ml.m5.12xlarge",
    "vcpuNum": 48
   },
   {
    "_defaultOrder": 10,
    "_isFastLaunch": false,
    "category": "General purpose",
    "gpuNum": 0,
    "memoryGiB": 256,
    "name": "ml.m5.16xlarge",
    "vcpuNum": 64
   },
   {
    "_defaultOrder": 11,
    "_isFastLaunch": false,
    "category": "General purpose",
    "gpuNum": 0,
    "memoryGiB": 384,
    "name": "ml.m5.24xlarge",
    "vcpuNum": 96
   },
   {
    "_defaultOrder": 12,
    "_isFastLaunch": false,
    "category": "General purpose",
    "gpuNum": 0,
    "memoryGiB": 8,
    "name": "ml.m5d.large",
    "vcpuNum": 2
   },
   {
    "_defaultOrder": 13,
    "_isFastLaunch": false,
    "category": "General purpose",
    "gpuNum": 0,
    "memoryGiB": 16,
    "name": "ml.m5d.xlarge",
    "vcpuNum": 4
   },
   {
    "_defaultOrder": 14,
    "_isFastLaunch": false,
    "category": "General purpose",
    "gpuNum": 0,
    "memoryGiB": 32,
    "name": "ml.m5d.2xlarge",
    "vcpuNum": 8
   },
   {
    "_defaultOrder": 15,
    "_isFastLaunch": false,
    "category": "General purpose",
    "gpuNum": 0,
    "memoryGiB": 64,
    "name": "ml.m5d.4xlarge",
    "vcpuNum": 16
   },
   {
    "_defaultOrder": 16,
    "_isFastLaunch": false,
    "category": "General purpose",
    "gpuNum": 0,
    "memoryGiB": 128,
    "name": "ml.m5d.8xlarge",
    "vcpuNum": 32
   },
   {
    "_defaultOrder": 17,
    "_isFastLaunch": false,
    "category": "General purpose",
    "gpuNum": 0,
    "memoryGiB": 192,
    "name": "ml.m5d.12xlarge",
    "vcpuNum": 48
   },
   {
    "_defaultOrder": 18,
    "_isFastLaunch": false,
    "category": "General purpose",
    "gpuNum": 0,
    "memoryGiB": 256,
    "name": "ml.m5d.16xlarge",
    "vcpuNum": 64
   },
   {
    "_defaultOrder": 19,
    "_isFastLaunch": false,
    "category": "General purpose",
    "gpuNum": 0,
    "memoryGiB": 384,
    "name": "ml.m5d.24xlarge",
    "vcpuNum": 96
   },
   {
    "_defaultOrder": 20,
    "_isFastLaunch": true,
    "category": "Compute optimized",
    "gpuNum": 0,
    "memoryGiB": 4,
    "name": "ml.c5.large",
    "vcpuNum": 2
   },
   {
    "_defaultOrder": 21,
    "_isFastLaunch": false,
    "category": "Compute optimized",
    "gpuNum": 0,
    "memoryGiB": 8,
    "name": "ml.c5.xlarge",
    "vcpuNum": 4
   },
   {
    "_defaultOrder": 22,
    "_isFastLaunch": false,
    "category": "Compute optimized",
    "gpuNum": 0,
    "memoryGiB": 16,
    "name": "ml.c5.2xlarge",
    "vcpuNum": 8
   },
   {
    "_defaultOrder": 23,
    "_isFastLaunch": false,
    "category": "Compute optimized",
    "gpuNum": 0,
    "memoryGiB": 32,
    "name": "ml.c5.4xlarge",
    "vcpuNum": 16
   },
   {
    "_defaultOrder": 24,
    "_isFastLaunch": false,
    "category": "Compute optimized",
    "gpuNum": 0,
    "memoryGiB": 72,
    "name": "ml.c5.9xlarge",
    "vcpuNum": 36
   },
   {
    "_defaultOrder": 25,
    "_isFastLaunch": false,
    "category": "Compute optimized",
    "gpuNum": 0,
    "memoryGiB": 96,
    "name": "ml.c5.12xlarge",
    "vcpuNum": 48
   },
   {
    "_defaultOrder": 26,
    "_isFastLaunch": false,
    "category": "Compute optimized",
    "gpuNum": 0,
    "memoryGiB": 144,
    "name": "ml.c5.18xlarge",
    "vcpuNum": 72
   },
   {
    "_defaultOrder": 27,
    "_isFastLaunch": false,
    "category": "Compute optimized",
    "gpuNum": 0,
    "memoryGiB": 192,
    "name": "ml.c5.24xlarge",
    "vcpuNum": 96
   },
   {
    "_defaultOrder": 28,
    "_isFastLaunch": true,
    "category": "Accelerated computing",
    "gpuNum": 1,
    "memoryGiB": 16,
    "name": "ml.g4dn.xlarge",
    "vcpuNum": 4
   },
   {
    "_defaultOrder": 29,
    "_isFastLaunch": false,
    "category": "Accelerated computing",
    "gpuNum": 1,
    "memoryGiB": 32,
    "name": "ml.g4dn.2xlarge",
    "vcpuNum": 8
   },
   {
    "_defaultOrder": 30,
    "_isFastLaunch": false,
    "category": "Accelerated computing",
    "gpuNum": 1,
    "memoryGiB": 64,
    "name": "ml.g4dn.4xlarge",
    "vcpuNum": 16
   },
   {
    "_defaultOrder": 31,
    "_isFastLaunch": false,
    "category": "Accelerated computing",
    "gpuNum": 1,
    "memoryGiB": 128,
    "name": "ml.g4dn.8xlarge",
    "vcpuNum": 32
   },
   {
    "_defaultOrder": 32,
    "_isFastLaunch": false,
    "category": "Accelerated computing",
    "gpuNum": 4,
    "memoryGiB": 192,
    "name": "ml.g4dn.12xlarge",
    "vcpuNum": 48
   },
   {
    "_defaultOrder": 33,
    "_isFastLaunch": false,
    "category": "Accelerated computing",
    "gpuNum": 1,
    "memoryGiB": 256,
    "name": "ml.g4dn.16xlarge",
    "vcpuNum": 64
   },
   {
    "_defaultOrder": 34,
    "_isFastLaunch": false,
    "category": "Accelerated computing",
    "gpuNum": 1,
    "memoryGiB": 61,
    "name": "ml.p3.2xlarge",
    "vcpuNum": 8
   },
   {
    "_defaultOrder": 35,
    "_isFastLaunch": false,
    "category": "Accelerated computing",
    "gpuNum": 4,
    "memoryGiB": 244,
    "name": "ml.p3.8xlarge",
    "vcpuNum": 32
   },
   {
    "_defaultOrder": 36,
    "_isFastLaunch": false,
    "category": "Accelerated computing",
    "gpuNum": 8,
    "memoryGiB": 488,
    "name": "ml.p3.16xlarge",
    "vcpuNum": 64
   },
   {
    "_defaultOrder": 37,
    "_isFastLaunch": false,
    "category": "Accelerated computing",
    "gpuNum": 8,
    "memoryGiB": 768,
    "name": "ml.p3dn.24xlarge",
    "vcpuNum": 96
   },
   {
    "_defaultOrder": 38,
    "_isFastLaunch": false,
    "category": "Memory Optimized",
    "gpuNum": 0,
    "memoryGiB": 16,
    "name": "ml.r5.large",
    "vcpuNum": 2
   },
   {
    "_defaultOrder": 39,
    "_isFastLaunch": false,
    "category": "Memory Optimized",
    "gpuNum": 0,
    "memoryGiB": 32,
    "name": "ml.r5.xlarge",
    "vcpuNum": 4
   },
   {
    "_defaultOrder": 40,
    "_isFastLaunch": false,
    "category": "Memory Optimized",
    "gpuNum": 0,
    "memoryGiB": 64,
    "name": "ml.r5.2xlarge",
    "vcpuNum": 8
   },
   {
    "_defaultOrder": 41,
    "_isFastLaunch": false,
    "category": "Memory Optimized",
    "gpuNum": 0,
    "memoryGiB": 128,
    "name": "ml.r5.4xlarge",
    "vcpuNum": 16
   },
   {
    "_defaultOrder": 42,
    "_isFastLaunch": false,
    "category": "Memory Optimized",
    "gpuNum": 0,
    "memoryGiB": 256,
    "name": "ml.r5.8xlarge",
    "vcpuNum": 32
   },
   {
    "_defaultOrder": 43,
    "_isFastLaunch": false,
    "category": "Memory Optimized",
    "gpuNum": 0,
    "memoryGiB": 384,
    "name": "ml.r5.12xlarge",
    "vcpuNum": 48
   },
   {
    "_defaultOrder": 44,
    "_isFastLaunch": false,
    "category": "Memory Optimized",
    "gpuNum": 0,
    "memoryGiB": 512,
    "name": "ml.r5.16xlarge",
    "vcpuNum": 64
   },
   {
    "_defaultOrder": 45,
    "_isFastLaunch": false,
    "category": "Memory Optimized",
    "gpuNum": 0,
    "memoryGiB": 768,
    "name": "ml.r5.24xlarge",
    "vcpuNum": 96
   },
   {
    "_defaultOrder": 46,
    "_isFastLaunch": false,
    "category": "Accelerated computing",
    "gpuNum": 1,
    "memoryGiB": 16,
    "name": "ml.g5.xlarge",
    "vcpuNum": 4
   },
   {
    "_defaultOrder": 47,
    "_isFastLaunch": false,
    "category": "Accelerated computing",
    "gpuNum": 1,
    "memoryGiB": 32,
    "name": "ml.g5.2xlarge",
    "vcpuNum": 8
   },
   {
    "_defaultOrder": 48,
    "_isFastLaunch": false,
    "category": "Accelerated computing",
    "gpuNum": 1,
    "memoryGiB": 64,
    "name": "ml.g5.4xlarge",
    "vcpuNum": 16
   },
   {
    "_defaultOrder": 49,
    "_isFastLaunch": false,
    "category": "Accelerated computing",
    "gpuNum": 1,
    "memoryGiB": 128,
    "name": "ml.g5.8xlarge",
    "vcpuNum": 32
   },
   {
    "_defaultOrder": 50,
    "_isFastLaunch": false,
    "category": "Accelerated computing",
    "gpuNum": 1,
    "memoryGiB": 256,
    "name": "ml.g5.16xlarge",
    "vcpuNum": 64
   },
   {
    "_defaultOrder": 51,
    "_isFastLaunch": false,
    "category": "Accelerated computing",
    "gpuNum": 4,
    "memoryGiB": 192,
    "name": "ml.g5.12xlarge",
    "vcpuNum": 48
   },
   {
    "_defaultOrder": 52,
    "_isFastLaunch": false,
    "category": "Accelerated computing",
    "gpuNum": 4,
    "memoryGiB": 384,
    "name": "ml.g5.24xlarge",
    "vcpuNum": 96
   },
   {
    "_defaultOrder": 53,
    "_isFastLaunch": false,
    "category": "Accelerated computing",
    "gpuNum": 8,
    "memoryGiB": 768,
    "name": "ml.g5.48xlarge",
    "vcpuNum": 192
   }
  ],
  "instance_type": "ml.t3.medium",
  "kernelspec": {
   "display_name": "Python 3 (Data Science)",
   "language": "python",
   "name": "python3__SAGEMAKER_INTERNAL__arn:aws:sagemaker:us-east-1:081325390199:image/datascience-1.0"
  },
  "language_info": {
   "codemirror_mode": {
    "name": "ipython",
    "version": 3
   },
   "file_extension": ".py",
   "mimetype": "text/x-python",
   "name": "python",
   "nbconvert_exporter": "python",
   "pygments_lexer": "ipython3",
   "version": "3.7.10"
  }
 },
 "nbformat": 4,
 "nbformat_minor": 5
}
